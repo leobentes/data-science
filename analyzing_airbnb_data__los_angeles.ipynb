{
  "nbformat": 4,
  "nbformat_minor": 0,
  "metadata": {
    "colab": {
      "name": "analyzing_airbnb_data__los-angeles.ipynb",
      "provenance": [],
      "collapsed_sections": [],
      "include_colab_link": true
    },
    "kernelspec": {
      "name": "python3",
      "display_name": "Python 3"
    }
  },
  "cells": [
    {
      "cell_type": "markdown",
      "metadata": {
        "id": "view-in-github",
        "colab_type": "text"
      },
      "source": [
        "<a href=\"https://colab.research.google.com/github/leobentes/data-science/blob/master/analyzing_airbnb_data__los_angeles.ipynb\" target=\"_parent\"><img src=\"https://colab.research.google.com/assets/colab-badge.svg\" alt=\"Open In Colab\"/></a>"
      ]
    },
    {
      "cell_type": "markdown",
      "metadata": {
        "id": "kLI0gJtzDGuQ",
        "colab_type": "text"
      },
      "source": [
        "# Airbnb data analysis - Los Angeles - CA - USA\n",
        "\n",
        "[Airbnb](https://www.airbnb.com/) is considered one of the largest (if not the largest) hosting companies in the world, even without owning a single property.\n",
        "\n",
        "By connecting people who want to travel with real estate owners who want to rent their properties in a practical way, Airbnb provides an innovative platform to make this accommodation a viable alternative.\n",
        "\n",
        "By the end of 2018, the company founded 10 years earlier, had already hosted more than 300 million people worldwide, challenging traditional hotel chains.\n",
        "\n",
        "One of Airbnb's initiatives is to provide its data on some of the main cities in the world. Through the [Inside Airbnb](http://insideairbnb.com/get-the-data.html) portal, it is possible to download a large amount of data to develop data science projects and solutions.\n",
        "\n",
        "Here, I’ll do a quick analysis of the data from the city of Los Angeles, focusing on **guest reviews vs location and price.**\n",
        "\n",
        "Why Los Angeles? Because it's one of the most important cities in USA, center of the nation’s film and television industry and with tons of other attractions to experiment. Also as I've lived there for a couple of years I'm curious if data will support (or not) my perception about LA.\n"
      ]
    },
    {
      "cell_type": "markdown",
      "metadata": {
        "id": "0zxQHhIUDF_2",
        "colab_type": "text"
      },
      "source": [
        "## Gathering the Data\n"
      ]
    },
    {
      "cell_type": "code",
      "metadata": {
        "id": "Vhp2wMPgJ6zX",
        "colab_type": "code",
        "colab": {}
      },
      "source": [
        "# Import needed packages\n",
        "import pandas as pd\n",
        "import matplotlib.pyplot as plt\n",
        "import seaborn as sns"
      ],
      "execution_count": 0,
      "outputs": []
    },
    {
      "cell_type": "code",
      "metadata": {
        "id": "tUmoAT8DLQ5T",
        "colab_type": "code",
        "outputId": "b3e0bd8e-9abc-4686-dbef-c6a417241221",
        "colab": {
          "base_uri": "https://localhost:8080/",
          "height": 71
        }
      },
      "source": [
        "# Create a dataframe based on detailed listings data for Los Angeles provided by Inside Airbnb\n",
        "df = pd.read_csv('http://data.insideairbnb.com/united-states/ca/los-angeles/2020-02-13/data/listings.csv.gz')"
      ],
      "execution_count": 2,
      "outputs": [
        {
          "output_type": "stream",
          "text": [
            "/usr/local/lib/python3.6/dist-packages/IPython/core/interactiveshell.py:2718: DtypeWarning: Columns (61,62) have mixed types. Specify dtype option on import or set low_memory=False.\n",
            "  interactivity=interactivity, compiler=compiler, result=result)\n"
          ],
          "name": "stderr"
        }
      ]
    },
    {
      "cell_type": "code",
      "metadata": {
        "id": "0yDL9hpgHE55",
        "colab_type": "code",
        "outputId": "03f2b5cb-2cc9-445d-ea0a-fb03c81b94a5",
        "colab": {
          "base_uri": "https://localhost:8080/",
          "height": 68
        }
      },
      "source": [
        "# Humm... There are some warnings. Let's see what columns 61 and 62 are.\n",
        "pd.Series(df.columns.values.tolist())[[61, 62]]"
      ],
      "execution_count": 3,
      "outputs": [
        {
          "output_type": "execute_result",
          "data": {
            "text/plain": [
              "61     weekly_price\n",
              "62    monthly_price\n",
              "dtype: object"
            ]
          },
          "metadata": {
            "tags": []
          },
          "execution_count": 3
        }
      ]
    },
    {
      "cell_type": "markdown",
      "metadata": {
        "id": "_YXZ17hjMj0E",
        "colab_type": "text"
      },
      "source": [
        "For this quick analysis I'll be focusing only on prices per night. So there's no need to work on fixing columns 61 (weekly_price) and 62 (monthly_price).\n",
        "\n",
        "Let's take a look at the other columns."
      ]
    },
    {
      "cell_type": "code",
      "metadata": {
        "id": "q9WBS1T6KM2j",
        "colab_type": "code",
        "outputId": "a11cb5b1-cd6f-49b0-e868-3b816234f6c1",
        "colab": {
          "base_uri": "https://localhost:8080/",
          "height": 695
        }
      },
      "source": [
        "df.head()"
      ],
      "execution_count": 4,
      "outputs": [
        {
          "output_type": "execute_result",
          "data": {
            "text/html": [
              "<div>\n",
              "<style scoped>\n",
              "    .dataframe tbody tr th:only-of-type {\n",
              "        vertical-align: middle;\n",
              "    }\n",
              "\n",
              "    .dataframe tbody tr th {\n",
              "        vertical-align: top;\n",
              "    }\n",
              "\n",
              "    .dataframe thead th {\n",
              "        text-align: right;\n",
              "    }\n",
              "</style>\n",
              "<table border=\"1\" class=\"dataframe\">\n",
              "  <thead>\n",
              "    <tr style=\"text-align: right;\">\n",
              "      <th></th>\n",
              "      <th>id</th>\n",
              "      <th>listing_url</th>\n",
              "      <th>scrape_id</th>\n",
              "      <th>last_scraped</th>\n",
              "      <th>name</th>\n",
              "      <th>summary</th>\n",
              "      <th>space</th>\n",
              "      <th>description</th>\n",
              "      <th>experiences_offered</th>\n",
              "      <th>neighborhood_overview</th>\n",
              "      <th>notes</th>\n",
              "      <th>transit</th>\n",
              "      <th>access</th>\n",
              "      <th>interaction</th>\n",
              "      <th>house_rules</th>\n",
              "      <th>thumbnail_url</th>\n",
              "      <th>medium_url</th>\n",
              "      <th>picture_url</th>\n",
              "      <th>xl_picture_url</th>\n",
              "      <th>host_id</th>\n",
              "      <th>host_url</th>\n",
              "      <th>host_name</th>\n",
              "      <th>host_since</th>\n",
              "      <th>host_location</th>\n",
              "      <th>host_about</th>\n",
              "      <th>host_response_time</th>\n",
              "      <th>host_response_rate</th>\n",
              "      <th>host_acceptance_rate</th>\n",
              "      <th>host_is_superhost</th>\n",
              "      <th>host_thumbnail_url</th>\n",
              "      <th>host_picture_url</th>\n",
              "      <th>host_neighbourhood</th>\n",
              "      <th>host_listings_count</th>\n",
              "      <th>host_total_listings_count</th>\n",
              "      <th>host_verifications</th>\n",
              "      <th>host_has_profile_pic</th>\n",
              "      <th>host_identity_verified</th>\n",
              "      <th>street</th>\n",
              "      <th>neighbourhood</th>\n",
              "      <th>neighbourhood_cleansed</th>\n",
              "      <th>...</th>\n",
              "      <th>extra_people</th>\n",
              "      <th>minimum_nights</th>\n",
              "      <th>maximum_nights</th>\n",
              "      <th>minimum_minimum_nights</th>\n",
              "      <th>maximum_minimum_nights</th>\n",
              "      <th>minimum_maximum_nights</th>\n",
              "      <th>maximum_maximum_nights</th>\n",
              "      <th>minimum_nights_avg_ntm</th>\n",
              "      <th>maximum_nights_avg_ntm</th>\n",
              "      <th>calendar_updated</th>\n",
              "      <th>has_availability</th>\n",
              "      <th>availability_30</th>\n",
              "      <th>availability_60</th>\n",
              "      <th>availability_90</th>\n",
              "      <th>availability_365</th>\n",
              "      <th>calendar_last_scraped</th>\n",
              "      <th>number_of_reviews</th>\n",
              "      <th>number_of_reviews_ltm</th>\n",
              "      <th>first_review</th>\n",
              "      <th>last_review</th>\n",
              "      <th>review_scores_rating</th>\n",
              "      <th>review_scores_accuracy</th>\n",
              "      <th>review_scores_cleanliness</th>\n",
              "      <th>review_scores_checkin</th>\n",
              "      <th>review_scores_communication</th>\n",
              "      <th>review_scores_location</th>\n",
              "      <th>review_scores_value</th>\n",
              "      <th>requires_license</th>\n",
              "      <th>license</th>\n",
              "      <th>jurisdiction_names</th>\n",
              "      <th>instant_bookable</th>\n",
              "      <th>is_business_travel_ready</th>\n",
              "      <th>cancellation_policy</th>\n",
              "      <th>require_guest_profile_picture</th>\n",
              "      <th>require_guest_phone_verification</th>\n",
              "      <th>calculated_host_listings_count</th>\n",
              "      <th>calculated_host_listings_count_entire_homes</th>\n",
              "      <th>calculated_host_listings_count_private_rooms</th>\n",
              "      <th>calculated_host_listings_count_shared_rooms</th>\n",
              "      <th>reviews_per_month</th>\n",
              "    </tr>\n",
              "  </thead>\n",
              "  <tbody>\n",
              "    <tr>\n",
              "      <th>0</th>\n",
              "      <td>109</td>\n",
              "      <td>https://www.airbnb.com/rooms/109</td>\n",
              "      <td>20200213032707</td>\n",
              "      <td>2020-02-13</td>\n",
              "      <td>Amazing bright elegant condo park front *UPGRA...</td>\n",
              "      <td>*** Unit upgraded with new bamboo flooring, br...</td>\n",
              "      <td>*** Unit upgraded with new bamboo flooring, br...</td>\n",
              "      <td>*** Unit upgraded with new bamboo flooring, br...</td>\n",
              "      <td>none</td>\n",
              "      <td>NaN</td>\n",
              "      <td>NaN</td>\n",
              "      <td>NaN</td>\n",
              "      <td>NaN</td>\n",
              "      <td>NaN</td>\n",
              "      <td>Camelot NEW RESIDENTS’ GENERAL INFORMATION   F...</td>\n",
              "      <td>NaN</td>\n",
              "      <td>NaN</td>\n",
              "      <td>https://a0.muscache.com/im/pictures/4321499/1d...</td>\n",
              "      <td>NaN</td>\n",
              "      <td>521</td>\n",
              "      <td>https://www.airbnb.com/users/show/521</td>\n",
              "      <td>Paolo</td>\n",
              "      <td>2008-06-27</td>\n",
              "      <td>San Francisco, California, United States</td>\n",
              "      <td>Search for me on the Internet with the keyword...</td>\n",
              "      <td>NaN</td>\n",
              "      <td>NaN</td>\n",
              "      <td>NaN</td>\n",
              "      <td>f</td>\n",
              "      <td>https://a0.muscache.com/im/users/521/profile_p...</td>\n",
              "      <td>https://a0.muscache.com/im/users/521/profile_p...</td>\n",
              "      <td>Culver City</td>\n",
              "      <td>1.0</td>\n",
              "      <td>1.0</td>\n",
              "      <td>['email', 'phone', 'facebook', 'reviews', 'kba']</td>\n",
              "      <td>t</td>\n",
              "      <td>t</td>\n",
              "      <td>Culver City, CA, United States</td>\n",
              "      <td>Culver City</td>\n",
              "      <td>Culver City</td>\n",
              "      <td>...</td>\n",
              "      <td>$25.00</td>\n",
              "      <td>30</td>\n",
              "      <td>730</td>\n",
              "      <td>30</td>\n",
              "      <td>30</td>\n",
              "      <td>730</td>\n",
              "      <td>730</td>\n",
              "      <td>30.0</td>\n",
              "      <td>730.0</td>\n",
              "      <td>3 days ago</td>\n",
              "      <td>t</td>\n",
              "      <td>0</td>\n",
              "      <td>0</td>\n",
              "      <td>0</td>\n",
              "      <td>0</td>\n",
              "      <td>2020-02-13</td>\n",
              "      <td>2</td>\n",
              "      <td>0</td>\n",
              "      <td>2011-08-15</td>\n",
              "      <td>2016-05-15</td>\n",
              "      <td>80.0</td>\n",
              "      <td>10.0</td>\n",
              "      <td>10.0</td>\n",
              "      <td>6.0</td>\n",
              "      <td>8.0</td>\n",
              "      <td>10.0</td>\n",
              "      <td>8.0</td>\n",
              "      <td>f</td>\n",
              "      <td>NaN</td>\n",
              "      <td>{\"Culver City\",\" CA\"}</td>\n",
              "      <td>f</td>\n",
              "      <td>f</td>\n",
              "      <td>strict_14_with_grace_period</td>\n",
              "      <td>t</td>\n",
              "      <td>f</td>\n",
              "      <td>1</td>\n",
              "      <td>1</td>\n",
              "      <td>0</td>\n",
              "      <td>0</td>\n",
              "      <td>0.02</td>\n",
              "    </tr>\n",
              "    <tr>\n",
              "      <th>1</th>\n",
              "      <td>344</td>\n",
              "      <td>https://www.airbnb.com/rooms/344</td>\n",
              "      <td>20200213032707</td>\n",
              "      <td>2020-02-13</td>\n",
              "      <td>Family perfect;Pool;Near Studios!</td>\n",
              "      <td>This home is perfect for families; aspiring ch...</td>\n",
              "      <td>Cheerful &amp; comfortable; near studios, amusemen...</td>\n",
              "      <td>This home is perfect for families; aspiring ch...</td>\n",
              "      <td>none</td>\n",
              "      <td>Quiet-yet-close to all the fun in LA! Hollywoo...</td>\n",
              "      <td>One dog may be on premises, friendly and cared...</td>\n",
              "      <td>Short drive to subway and elevated trains runn...</td>\n",
              "      <td>Pool, patio and self-contained main house all ...</td>\n",
              "      <td>Host and caretaker may be available throughout...</td>\n",
              "      <td>Host asks that guests refrain from partying lo...</td>\n",
              "      <td>NaN</td>\n",
              "      <td>NaN</td>\n",
              "      <td>https://a0.muscache.com/im/pictures/cc4b724d-d...</td>\n",
              "      <td>NaN</td>\n",
              "      <td>767</td>\n",
              "      <td>https://www.airbnb.com/users/show/767</td>\n",
              "      <td>Melissa</td>\n",
              "      <td>2008-07-11</td>\n",
              "      <td>Burbank, California, United States</td>\n",
              "      <td>Single mother, CEO and Owner of an internation...</td>\n",
              "      <td>within a day</td>\n",
              "      <td>75%</td>\n",
              "      <td>29%</td>\n",
              "      <td>f</td>\n",
              "      <td>https://a0.muscache.com/im/users/767/profile_p...</td>\n",
              "      <td>https://a0.muscache.com/im/users/767/profile_p...</td>\n",
              "      <td>Burbank</td>\n",
              "      <td>1.0</td>\n",
              "      <td>1.0</td>\n",
              "      <td>['email', 'phone', 'reviews', 'jumio', 'kba', ...</td>\n",
              "      <td>t</td>\n",
              "      <td>t</td>\n",
              "      <td>Burbank, CA, United States</td>\n",
              "      <td>Burbank</td>\n",
              "      <td>Burbank</td>\n",
              "      <td>...</td>\n",
              "      <td>$0.00</td>\n",
              "      <td>2</td>\n",
              "      <td>14</td>\n",
              "      <td>2</td>\n",
              "      <td>2</td>\n",
              "      <td>14</td>\n",
              "      <td>14</td>\n",
              "      <td>2.0</td>\n",
              "      <td>14.0</td>\n",
              "      <td>5 months ago</td>\n",
              "      <td>t</td>\n",
              "      <td>0</td>\n",
              "      <td>0</td>\n",
              "      <td>0</td>\n",
              "      <td>119</td>\n",
              "      <td>2020-02-13</td>\n",
              "      <td>8</td>\n",
              "      <td>2</td>\n",
              "      <td>2016-06-14</td>\n",
              "      <td>2019-10-19</td>\n",
              "      <td>97.0</td>\n",
              "      <td>10.0</td>\n",
              "      <td>10.0</td>\n",
              "      <td>10.0</td>\n",
              "      <td>10.0</td>\n",
              "      <td>10.0</td>\n",
              "      <td>10.0</td>\n",
              "      <td>f</td>\n",
              "      <td>NaN</td>\n",
              "      <td>NaN</td>\n",
              "      <td>t</td>\n",
              "      <td>f</td>\n",
              "      <td>flexible</td>\n",
              "      <td>f</td>\n",
              "      <td>f</td>\n",
              "      <td>1</td>\n",
              "      <td>1</td>\n",
              "      <td>0</td>\n",
              "      <td>0</td>\n",
              "      <td>0.18</td>\n",
              "    </tr>\n",
              "    <tr>\n",
              "      <th>2</th>\n",
              "      <td>2708</td>\n",
              "      <td>https://www.airbnb.com/rooms/2708</td>\n",
              "      <td>20200213032707</td>\n",
              "      <td>2020-02-13</td>\n",
              "      <td>Mirrored Mini-Suite with Fireplace - W. Hollywood</td>\n",
              "      <td>Our best memory foam pillows you'll ever sleep...</td>\n",
              "      <td>Flickering fireplace.  Blendtec® Designer 625 ...</td>\n",
              "      <td>Our best memory foam pillows you'll ever sleep...</td>\n",
              "      <td>none</td>\n",
              "      <td>We are minutes away from the Mentor Language I...</td>\n",
              "      <td>Blendtec® Designer 625 Blender Bundle with Twi...</td>\n",
              "      <td>There are many buses; bus stops going in every...</td>\n",
              "      <td>Kitchen with new refrigerator, dishwasher, sto...</td>\n",
              "      <td>I am friendly and available to help you with y...</td>\n",
              "      <td>I just have one rule. The Golden Rule Do unto ...</td>\n",
              "      <td>NaN</td>\n",
              "      <td>NaN</td>\n",
              "      <td>https://a0.muscache.com/im/pictures/40618141/2...</td>\n",
              "      <td>NaN</td>\n",
              "      <td>3008</td>\n",
              "      <td>https://www.airbnb.com/users/show/3008</td>\n",
              "      <td>Chas.</td>\n",
              "      <td>2008-09-16</td>\n",
              "      <td>Los Angeles, California, United States</td>\n",
              "      <td>Writer.\\r\\nLiterary Manager.\\r\\nPhotographer.\\...</td>\n",
              "      <td>within an hour</td>\n",
              "      <td>100%</td>\n",
              "      <td>96%</td>\n",
              "      <td>t</td>\n",
              "      <td>https://a0.muscache.com/im/pictures/user/d17cf...</td>\n",
              "      <td>https://a0.muscache.com/im/pictures/user/d17cf...</td>\n",
              "      <td>Hollywood</td>\n",
              "      <td>2.0</td>\n",
              "      <td>2.0</td>\n",
              "      <td>['email', 'phone', 'facebook', 'reviews', 'kba']</td>\n",
              "      <td>t</td>\n",
              "      <td>t</td>\n",
              "      <td>Los Angeles, CA, United States</td>\n",
              "      <td>Hollywood</td>\n",
              "      <td>Hollywood</td>\n",
              "      <td>...</td>\n",
              "      <td>$0.00</td>\n",
              "      <td>30</td>\n",
              "      <td>366</td>\n",
              "      <td>30</td>\n",
              "      <td>30</td>\n",
              "      <td>1125</td>\n",
              "      <td>1125</td>\n",
              "      <td>30.0</td>\n",
              "      <td>1125.0</td>\n",
              "      <td>5 weeks ago</td>\n",
              "      <td>t</td>\n",
              "      <td>2</td>\n",
              "      <td>2</td>\n",
              "      <td>29</td>\n",
              "      <td>304</td>\n",
              "      <td>2020-02-13</td>\n",
              "      <td>23</td>\n",
              "      <td>9</td>\n",
              "      <td>2014-06-09</td>\n",
              "      <td>2019-12-12</td>\n",
              "      <td>98.0</td>\n",
              "      <td>10.0</td>\n",
              "      <td>10.0</td>\n",
              "      <td>10.0</td>\n",
              "      <td>10.0</td>\n",
              "      <td>10.0</td>\n",
              "      <td>10.0</td>\n",
              "      <td>t</td>\n",
              "      <td>NaN</td>\n",
              "      <td>{\"City of Los Angeles\",\" CA\"}</td>\n",
              "      <td>t</td>\n",
              "      <td>f</td>\n",
              "      <td>strict_14_with_grace_period</td>\n",
              "      <td>f</td>\n",
              "      <td>f</td>\n",
              "      <td>2</td>\n",
              "      <td>0</td>\n",
              "      <td>2</td>\n",
              "      <td>0</td>\n",
              "      <td>0.33</td>\n",
              "    </tr>\n",
              "    <tr>\n",
              "      <th>3</th>\n",
              "      <td>2732</td>\n",
              "      <td>https://www.airbnb.com/rooms/2732</td>\n",
              "      <td>20200213032707</td>\n",
              "      <td>2020-02-13</td>\n",
              "      <td>Zen Life at the Beach</td>\n",
              "      <td>NaN</td>\n",
              "      <td>This is a three story townhouse with the follo...</td>\n",
              "      <td>This is a three story townhouse with the follo...</td>\n",
              "      <td>none</td>\n",
              "      <td>NaN</td>\n",
              "      <td>NaN</td>\n",
              "      <td>NaN</td>\n",
              "      <td>NaN</td>\n",
              "      <td>NaN</td>\n",
              "      <td>ABOUT YOU.  Friendly travelers or people comin...</td>\n",
              "      <td>NaN</td>\n",
              "      <td>NaN</td>\n",
              "      <td>https://a0.muscache.com/im/pictures/1082974/0f...</td>\n",
              "      <td>NaN</td>\n",
              "      <td>3041</td>\n",
              "      <td>https://www.airbnb.com/users/show/3041</td>\n",
              "      <td>Yoga Priestess</td>\n",
              "      <td>2008-09-17</td>\n",
              "      <td>Santa Monica, California, United States</td>\n",
              "      <td>I have been teaching yoga and meditation for 3...</td>\n",
              "      <td>within an hour</td>\n",
              "      <td>100%</td>\n",
              "      <td>73%</td>\n",
              "      <td>f</td>\n",
              "      <td>https://a0.muscache.com/im/users/3041/profile_...</td>\n",
              "      <td>https://a0.muscache.com/im/users/3041/profile_...</td>\n",
              "      <td>Santa Monica</td>\n",
              "      <td>2.0</td>\n",
              "      <td>2.0</td>\n",
              "      <td>['email', 'phone', 'reviews', 'jumio', 'offlin...</td>\n",
              "      <td>t</td>\n",
              "      <td>f</td>\n",
              "      <td>Santa Monica, CA, United States</td>\n",
              "      <td>Santa Monica</td>\n",
              "      <td>Santa Monica</td>\n",
              "      <td>...</td>\n",
              "      <td>$0.00</td>\n",
              "      <td>1</td>\n",
              "      <td>180</td>\n",
              "      <td>1</td>\n",
              "      <td>1</td>\n",
              "      <td>180</td>\n",
              "      <td>180</td>\n",
              "      <td>1.0</td>\n",
              "      <td>180.0</td>\n",
              "      <td>3 weeks ago</td>\n",
              "      <td>t</td>\n",
              "      <td>2</td>\n",
              "      <td>32</td>\n",
              "      <td>62</td>\n",
              "      <td>337</td>\n",
              "      <td>2020-02-13</td>\n",
              "      <td>21</td>\n",
              "      <td>3</td>\n",
              "      <td>2011-06-06</td>\n",
              "      <td>2019-12-27</td>\n",
              "      <td>94.0</td>\n",
              "      <td>9.0</td>\n",
              "      <td>9.0</td>\n",
              "      <td>9.0</td>\n",
              "      <td>9.0</td>\n",
              "      <td>10.0</td>\n",
              "      <td>9.0</td>\n",
              "      <td>t</td>\n",
              "      <td>228269</td>\n",
              "      <td>{\"Santa Monica\",\" Santa Monica\",\" CA\"}</td>\n",
              "      <td>f</td>\n",
              "      <td>f</td>\n",
              "      <td>strict_14_with_grace_period</td>\n",
              "      <td>f</td>\n",
              "      <td>f</td>\n",
              "      <td>2</td>\n",
              "      <td>1</td>\n",
              "      <td>1</td>\n",
              "      <td>0</td>\n",
              "      <td>0.20</td>\n",
              "    </tr>\n",
              "    <tr>\n",
              "      <th>4</th>\n",
              "      <td>2864</td>\n",
              "      <td>https://www.airbnb.com/rooms/2864</td>\n",
              "      <td>20200213032707</td>\n",
              "      <td>2020-02-13</td>\n",
              "      <td>*Upscale Professional Home with Beautiful Studio*</td>\n",
              "      <td>Centrally located.... Furnished with 42 inch S...</td>\n",
              "      <td>The space is furnished with Thomasville furnit...</td>\n",
              "      <td>Centrally located.... Furnished with 42 inch S...</td>\n",
              "      <td>none</td>\n",
              "      <td>What makes the neighborhood unique is that the...</td>\n",
              "      <td>If you are doing business travel, this studio ...</td>\n",
              "      <td>Public transportation is a 3 minutes walk to t...</td>\n",
              "      <td>Good access to all things in Los Angeles and O...</td>\n",
              "      <td>I am always available for questions throughout...</td>\n",
              "      <td>NaN</td>\n",
              "      <td>NaN</td>\n",
              "      <td>NaN</td>\n",
              "      <td>https://a0.muscache.com/im/pictures/23817858/d...</td>\n",
              "      <td>NaN</td>\n",
              "      <td>3207</td>\n",
              "      <td>https://www.airbnb.com/users/show/3207</td>\n",
              "      <td>Bernadine</td>\n",
              "      <td>2008-09-25</td>\n",
              "      <td>Bellflower, California, United States</td>\n",
              "      <td>Fair, open, honest and very informative for ne...</td>\n",
              "      <td>NaN</td>\n",
              "      <td>NaN</td>\n",
              "      <td>NaN</td>\n",
              "      <td>f</td>\n",
              "      <td>https://a0.muscache.com/im/pictures/user/8b82a...</td>\n",
              "      <td>https://a0.muscache.com/im/pictures/user/8b82a...</td>\n",
              "      <td>Bellflower</td>\n",
              "      <td>1.0</td>\n",
              "      <td>1.0</td>\n",
              "      <td>['email', 'phone', 'facebook', 'kba']</td>\n",
              "      <td>t</td>\n",
              "      <td>t</td>\n",
              "      <td>Bellflower, CA, United States</td>\n",
              "      <td>Bellflower</td>\n",
              "      <td>Bellflower</td>\n",
              "      <td>...</td>\n",
              "      <td>$25.00</td>\n",
              "      <td>2</td>\n",
              "      <td>730</td>\n",
              "      <td>2</td>\n",
              "      <td>2</td>\n",
              "      <td>730</td>\n",
              "      <td>730</td>\n",
              "      <td>2.0</td>\n",
              "      <td>730.0</td>\n",
              "      <td>19 months ago</td>\n",
              "      <td>t</td>\n",
              "      <td>0</td>\n",
              "      <td>0</td>\n",
              "      <td>0</td>\n",
              "      <td>0</td>\n",
              "      <td>2020-02-13</td>\n",
              "      <td>0</td>\n",
              "      <td>0</td>\n",
              "      <td>NaN</td>\n",
              "      <td>NaN</td>\n",
              "      <td>NaN</td>\n",
              "      <td>NaN</td>\n",
              "      <td>NaN</td>\n",
              "      <td>NaN</td>\n",
              "      <td>NaN</td>\n",
              "      <td>NaN</td>\n",
              "      <td>NaN</td>\n",
              "      <td>f</td>\n",
              "      <td>NaN</td>\n",
              "      <td>NaN</td>\n",
              "      <td>f</td>\n",
              "      <td>f</td>\n",
              "      <td>strict_14_with_grace_period</td>\n",
              "      <td>f</td>\n",
              "      <td>f</td>\n",
              "      <td>1</td>\n",
              "      <td>1</td>\n",
              "      <td>0</td>\n",
              "      <td>0</td>\n",
              "      <td>NaN</td>\n",
              "    </tr>\n",
              "  </tbody>\n",
              "</table>\n",
              "<p>5 rows × 106 columns</p>\n",
              "</div>"
            ],
            "text/plain": [
              "     id  ... reviews_per_month\n",
              "0   109  ...              0.02\n",
              "1   344  ...              0.18\n",
              "2  2708  ...              0.33\n",
              "3  2732  ...              0.20\n",
              "4  2864  ...               NaN\n",
              "\n",
              "[5 rows x 106 columns]"
            ]
          },
          "metadata": {
            "tags": []
          },
          "execution_count": 4
        }
      ]
    },
    {
      "cell_type": "markdown",
      "metadata": {
        "id": "xz8_UteyZH8b",
        "colab_type": "text"
      },
      "source": [
        "Wow! There's a lot of cool stuff. I definitely should do a more comprehensive analysis in the future. For now, I'm keeping only location, price and reviews related columns. "
      ]
    },
    {
      "cell_type": "code",
      "metadata": {
        "id": "Wbvn9I4CZmGM",
        "colab_type": "code",
        "colab": {}
      },
      "source": [
        "# Select only the columns the will be part of the analysis. Create a new dataframe and keeping the original one intact so we can always go back if we need to.\n",
        "df_work = df.copy()\n",
        "df_work = df_work[['id', 'neighbourhood','neighbourhood_cleansed','neighbourhood_group_cleansed', 'city', 'review_scores_rating', 'review_scores_location', 'price']]"
      ],
      "execution_count": 0,
      "outputs": []
    },
    {
      "cell_type": "markdown",
      "metadata": {
        "id": "qb5By2nIMS6m",
        "colab_type": "text"
      },
      "source": [
        "## Understand the data\n"
      ]
    },
    {
      "cell_type": "markdown",
      "metadata": {
        "id": "RYgvuebKNg8-",
        "colab_type": "text"
      },
      "source": [
        "We'll be working with only 8 features/variables/columns from the original dataset.\n",
        "\n",
        "* **id:** unique property identification generated by airbnb (just in case I want to see the complete ad)\n",
        "* **neighbourhood:** neighbourhood name\n",
        "* **neighbourhood_cleansed:** neighbourhood name cleansed by Inside Airbnb\n",
        "* **neighbourhood_group_cleansed:** neighbourhood group as defined by Inside Airbnb\n",
        "* **city:** city inside Los Angeles county\n",
        "* **review_scores_rating:** overall review scores given by guests\n",
        "* **review_scores_location:** location reviews given by guests\n",
        "* **price:** rental price per night"
      ]
    },
    {
      "cell_type": "markdown",
      "metadata": {
        "id": "6-B_qtEaYEd-",
        "colab_type": "text"
      },
      "source": [
        "### Some insights on the new dataframe"
      ]
    },
    {
      "cell_type": "code",
      "metadata": {
        "id": "TFRK0tniLV-G",
        "colab_type": "code",
        "outputId": "326c984e-75a2-4c69-893d-df2ec706fc18",
        "colab": {
          "base_uri": "https://localhost:8080/",
          "height": 238
        }
      },
      "source": [
        "# Print dataframe volumes\n",
        "print(\"Observations:\\t {}\".format(df_work.shape[0]))\n",
        "print(\"Features:\\t {}\\n\".format(df_work.shape[1]))\n",
        "\n",
        "# Check type of \n",
        "print(\"Variable types\")\n",
        "display(df_work.dtypes)"
      ],
      "execution_count": 6,
      "outputs": [
        {
          "output_type": "stream",
          "text": [
            "Observations:\t 38851\n",
            "Features:\t 8\n",
            "\n",
            "Variable types\n"
          ],
          "name": "stdout"
        },
        {
          "output_type": "display_data",
          "data": {
            "text/plain": [
              "id                                int64\n",
              "neighbourhood                    object\n",
              "neighbourhood_cleansed           object\n",
              "neighbourhood_group_cleansed     object\n",
              "city                             object\n",
              "review_scores_rating            float64\n",
              "review_scores_location          float64\n",
              "price                            object\n",
              "dtype: object"
            ]
          },
          "metadata": {
            "tags": []
          }
        }
      ]
    },
    {
      "cell_type": "markdown",
      "metadata": {
        "id": "P2nh8nu2kDI6",
        "colab_type": "text"
      },
      "source": [
        "I expected price to be numeric. I need to convert it."
      ]
    },
    {
      "cell_type": "code",
      "metadata": {
        "id": "wWx_5GxEkPpF",
        "colab_type": "code",
        "outputId": "495474cc-323f-4a40-f1f1-f90a29bec801",
        "colab": {
          "base_uri": "https://localhost:8080/",
          "height": 221
        }
      },
      "source": [
        "df_work.price"
      ],
      "execution_count": 7,
      "outputs": [
        {
          "output_type": "execute_result",
          "data": {
            "text/plain": [
              "0        $122.00\n",
              "1        $168.00\n",
              "2         $79.00\n",
              "3        $140.00\n",
              "4         $80.00\n",
              "          ...   \n",
              "38846    $265.00\n",
              "38847     $99.00\n",
              "38848    $295.00\n",
              "38849    $199.00\n",
              "38850     $80.00\n",
              "Name: price, Length: 38851, dtype: object"
            ]
          },
          "metadata": {
            "tags": []
          },
          "execution_count": 7
        }
      ]
    },
    {
      "cell_type": "code",
      "metadata": {
        "id": "Ed7aGghQkIrd",
        "colab_type": "code",
        "colab": {}
      },
      "source": [
        "df_work.price = df_work.price.replace('[\\$,]', '', regex=True).astype(float)"
      ],
      "execution_count": 0,
      "outputs": []
    },
    {
      "cell_type": "code",
      "metadata": {
        "id": "s9xmO16PkbYi",
        "colab_type": "code",
        "outputId": "b8068ab0-5978-4212-cc46-0fd275c15d07",
        "colab": {
          "base_uri": "https://localhost:8080/",
          "height": 221
        }
      },
      "source": [
        "# It's numeric now\n",
        "df_work.price"
      ],
      "execution_count": 9,
      "outputs": [
        {
          "output_type": "execute_result",
          "data": {
            "text/plain": [
              "0        122.0\n",
              "1        168.0\n",
              "2         79.0\n",
              "3        140.0\n",
              "4         80.0\n",
              "         ...  \n",
              "38846    265.0\n",
              "38847     99.0\n",
              "38848    295.0\n",
              "38849    199.0\n",
              "38850     80.0\n",
              "Name: price, Length: 38851, dtype: float64"
            ]
          },
          "metadata": {
            "tags": []
          },
          "execution_count": 9
        }
      ]
    },
    {
      "cell_type": "code",
      "metadata": {
        "id": "tI1f5J9TP1cS",
        "colab_type": "code",
        "outputId": "ae13a64a-6b6c-4c3a-fd32-6f76ababb644",
        "colab": {
          "base_uri": "https://localhost:8080/",
          "height": 204
        }
      },
      "source": [
        "df_work.head()"
      ],
      "execution_count": 10,
      "outputs": [
        {
          "output_type": "execute_result",
          "data": {
            "text/html": [
              "<div>\n",
              "<style scoped>\n",
              "    .dataframe tbody tr th:only-of-type {\n",
              "        vertical-align: middle;\n",
              "    }\n",
              "\n",
              "    .dataframe tbody tr th {\n",
              "        vertical-align: top;\n",
              "    }\n",
              "\n",
              "    .dataframe thead th {\n",
              "        text-align: right;\n",
              "    }\n",
              "</style>\n",
              "<table border=\"1\" class=\"dataframe\">\n",
              "  <thead>\n",
              "    <tr style=\"text-align: right;\">\n",
              "      <th></th>\n",
              "      <th>id</th>\n",
              "      <th>neighbourhood</th>\n",
              "      <th>neighbourhood_cleansed</th>\n",
              "      <th>neighbourhood_group_cleansed</th>\n",
              "      <th>city</th>\n",
              "      <th>review_scores_rating</th>\n",
              "      <th>review_scores_location</th>\n",
              "      <th>price</th>\n",
              "    </tr>\n",
              "  </thead>\n",
              "  <tbody>\n",
              "    <tr>\n",
              "      <th>0</th>\n",
              "      <td>109</td>\n",
              "      <td>Culver City</td>\n",
              "      <td>Culver City</td>\n",
              "      <td>Other Cities</td>\n",
              "      <td>Culver City</td>\n",
              "      <td>80.0</td>\n",
              "      <td>10.0</td>\n",
              "      <td>122.0</td>\n",
              "    </tr>\n",
              "    <tr>\n",
              "      <th>1</th>\n",
              "      <td>344</td>\n",
              "      <td>Burbank</td>\n",
              "      <td>Burbank</td>\n",
              "      <td>Other Cities</td>\n",
              "      <td>Burbank</td>\n",
              "      <td>97.0</td>\n",
              "      <td>10.0</td>\n",
              "      <td>168.0</td>\n",
              "    </tr>\n",
              "    <tr>\n",
              "      <th>2</th>\n",
              "      <td>2708</td>\n",
              "      <td>Hollywood</td>\n",
              "      <td>Hollywood</td>\n",
              "      <td>City of Los Angeles</td>\n",
              "      <td>Los Angeles</td>\n",
              "      <td>98.0</td>\n",
              "      <td>10.0</td>\n",
              "      <td>79.0</td>\n",
              "    </tr>\n",
              "    <tr>\n",
              "      <th>3</th>\n",
              "      <td>2732</td>\n",
              "      <td>Santa Monica</td>\n",
              "      <td>Santa Monica</td>\n",
              "      <td>Other Cities</td>\n",
              "      <td>Santa Monica</td>\n",
              "      <td>94.0</td>\n",
              "      <td>10.0</td>\n",
              "      <td>140.0</td>\n",
              "    </tr>\n",
              "    <tr>\n",
              "      <th>4</th>\n",
              "      <td>2864</td>\n",
              "      <td>Bellflower</td>\n",
              "      <td>Bellflower</td>\n",
              "      <td>Other Cities</td>\n",
              "      <td>Bellflower</td>\n",
              "      <td>NaN</td>\n",
              "      <td>NaN</td>\n",
              "      <td>80.0</td>\n",
              "    </tr>\n",
              "  </tbody>\n",
              "</table>\n",
              "</div>"
            ],
            "text/plain": [
              "     id neighbourhood  ... review_scores_location  price\n",
              "0   109   Culver City  ...                   10.0  122.0\n",
              "1   344       Burbank  ...                   10.0  168.0\n",
              "2  2708     Hollywood  ...                   10.0   79.0\n",
              "3  2732  Santa Monica  ...                   10.0  140.0\n",
              "4  2864    Bellflower  ...                    NaN   80.0\n",
              "\n",
              "[5 rows x 8 columns]"
            ]
          },
          "metadata": {
            "tags": []
          },
          "execution_count": 10
        }
      ]
    },
    {
      "cell_type": "code",
      "metadata": {
        "id": "y3qal4rTQNfm",
        "colab_type": "code",
        "outputId": "37f761ed-ba1e-4c49-87ab-09f518d4d55f",
        "colab": {
          "base_uri": "https://localhost:8080/",
          "height": 297
        }
      },
      "source": [
        "df_work[['review_scores_rating','review_scores_location']].describe()"
      ],
      "execution_count": 11,
      "outputs": [
        {
          "output_type": "execute_result",
          "data": {
            "text/html": [
              "<div>\n",
              "<style scoped>\n",
              "    .dataframe tbody tr th:only-of-type {\n",
              "        vertical-align: middle;\n",
              "    }\n",
              "\n",
              "    .dataframe tbody tr th {\n",
              "        vertical-align: top;\n",
              "    }\n",
              "\n",
              "    .dataframe thead th {\n",
              "        text-align: right;\n",
              "    }\n",
              "</style>\n",
              "<table border=\"1\" class=\"dataframe\">\n",
              "  <thead>\n",
              "    <tr style=\"text-align: right;\">\n",
              "      <th></th>\n",
              "      <th>review_scores_rating</th>\n",
              "      <th>review_scores_location</th>\n",
              "    </tr>\n",
              "  </thead>\n",
              "  <tbody>\n",
              "    <tr>\n",
              "      <th>count</th>\n",
              "      <td>30658.000000</td>\n",
              "      <td>30610.000000</td>\n",
              "    </tr>\n",
              "    <tr>\n",
              "      <th>mean</th>\n",
              "      <td>94.344021</td>\n",
              "      <td>9.704443</td>\n",
              "    </tr>\n",
              "    <tr>\n",
              "      <th>std</th>\n",
              "      <td>8.853508</td>\n",
              "      <td>0.724284</td>\n",
              "    </tr>\n",
              "    <tr>\n",
              "      <th>min</th>\n",
              "      <td>20.000000</td>\n",
              "      <td>2.000000</td>\n",
              "    </tr>\n",
              "    <tr>\n",
              "      <th>25%</th>\n",
              "      <td>93.000000</td>\n",
              "      <td>10.000000</td>\n",
              "    </tr>\n",
              "    <tr>\n",
              "      <th>50%</th>\n",
              "      <td>97.000000</td>\n",
              "      <td>10.000000</td>\n",
              "    </tr>\n",
              "    <tr>\n",
              "      <th>75%</th>\n",
              "      <td>100.000000</td>\n",
              "      <td>10.000000</td>\n",
              "    </tr>\n",
              "    <tr>\n",
              "      <th>max</th>\n",
              "      <td>100.000000</td>\n",
              "      <td>10.000000</td>\n",
              "    </tr>\n",
              "  </tbody>\n",
              "</table>\n",
              "</div>"
            ],
            "text/plain": [
              "       review_scores_rating  review_scores_location\n",
              "count          30658.000000            30610.000000\n",
              "mean              94.344021                9.704443\n",
              "std                8.853508                0.724284\n",
              "min               20.000000                2.000000\n",
              "25%               93.000000               10.000000\n",
              "50%               97.000000               10.000000\n",
              "75%              100.000000               10.000000\n",
              "max              100.000000               10.000000"
            ]
          },
          "metadata": {
            "tags": []
          },
          "execution_count": 11
        }
      ]
    },
    {
      "cell_type": "markdown",
      "metadata": {
        "id": "Qww2Be6aTGw5",
        "colab_type": "text"
      },
      "source": [
        "review_scores_rating and review_scores_location are on different scales. It's better to rescale review_scores_rating."
      ]
    },
    {
      "cell_type": "code",
      "metadata": {
        "id": "2IDNFm5wTERr",
        "colab_type": "code",
        "colab": {}
      },
      "source": [
        "df_work.review_scores_rating = df_work.review_scores_rating/float(10)"
      ],
      "execution_count": 0,
      "outputs": []
    },
    {
      "cell_type": "code",
      "metadata": {
        "id": "Qv7jUcXKT0CA",
        "colab_type": "code",
        "outputId": "2543c912-fbcf-480a-a32b-b84033d32541",
        "colab": {
          "base_uri": "https://localhost:8080/",
          "height": 204
        }
      },
      "source": [
        "df_work.head()"
      ],
      "execution_count": 13,
      "outputs": [
        {
          "output_type": "execute_result",
          "data": {
            "text/html": [
              "<div>\n",
              "<style scoped>\n",
              "    .dataframe tbody tr th:only-of-type {\n",
              "        vertical-align: middle;\n",
              "    }\n",
              "\n",
              "    .dataframe tbody tr th {\n",
              "        vertical-align: top;\n",
              "    }\n",
              "\n",
              "    .dataframe thead th {\n",
              "        text-align: right;\n",
              "    }\n",
              "</style>\n",
              "<table border=\"1\" class=\"dataframe\">\n",
              "  <thead>\n",
              "    <tr style=\"text-align: right;\">\n",
              "      <th></th>\n",
              "      <th>id</th>\n",
              "      <th>neighbourhood</th>\n",
              "      <th>neighbourhood_cleansed</th>\n",
              "      <th>neighbourhood_group_cleansed</th>\n",
              "      <th>city</th>\n",
              "      <th>review_scores_rating</th>\n",
              "      <th>review_scores_location</th>\n",
              "      <th>price</th>\n",
              "    </tr>\n",
              "  </thead>\n",
              "  <tbody>\n",
              "    <tr>\n",
              "      <th>0</th>\n",
              "      <td>109</td>\n",
              "      <td>Culver City</td>\n",
              "      <td>Culver City</td>\n",
              "      <td>Other Cities</td>\n",
              "      <td>Culver City</td>\n",
              "      <td>8.0</td>\n",
              "      <td>10.0</td>\n",
              "      <td>122.0</td>\n",
              "    </tr>\n",
              "    <tr>\n",
              "      <th>1</th>\n",
              "      <td>344</td>\n",
              "      <td>Burbank</td>\n",
              "      <td>Burbank</td>\n",
              "      <td>Other Cities</td>\n",
              "      <td>Burbank</td>\n",
              "      <td>9.7</td>\n",
              "      <td>10.0</td>\n",
              "      <td>168.0</td>\n",
              "    </tr>\n",
              "    <tr>\n",
              "      <th>2</th>\n",
              "      <td>2708</td>\n",
              "      <td>Hollywood</td>\n",
              "      <td>Hollywood</td>\n",
              "      <td>City of Los Angeles</td>\n",
              "      <td>Los Angeles</td>\n",
              "      <td>9.8</td>\n",
              "      <td>10.0</td>\n",
              "      <td>79.0</td>\n",
              "    </tr>\n",
              "    <tr>\n",
              "      <th>3</th>\n",
              "      <td>2732</td>\n",
              "      <td>Santa Monica</td>\n",
              "      <td>Santa Monica</td>\n",
              "      <td>Other Cities</td>\n",
              "      <td>Santa Monica</td>\n",
              "      <td>9.4</td>\n",
              "      <td>10.0</td>\n",
              "      <td>140.0</td>\n",
              "    </tr>\n",
              "    <tr>\n",
              "      <th>4</th>\n",
              "      <td>2864</td>\n",
              "      <td>Bellflower</td>\n",
              "      <td>Bellflower</td>\n",
              "      <td>Other Cities</td>\n",
              "      <td>Bellflower</td>\n",
              "      <td>NaN</td>\n",
              "      <td>NaN</td>\n",
              "      <td>80.0</td>\n",
              "    </tr>\n",
              "  </tbody>\n",
              "</table>\n",
              "</div>"
            ],
            "text/plain": [
              "     id neighbourhood  ... review_scores_location  price\n",
              "0   109   Culver City  ...                   10.0  122.0\n",
              "1   344       Burbank  ...                   10.0  168.0\n",
              "2  2708     Hollywood  ...                   10.0   79.0\n",
              "3  2732  Santa Monica  ...                   10.0  140.0\n",
              "4  2864    Bellflower  ...                    NaN   80.0\n",
              "\n",
              "[5 rows x 8 columns]"
            ]
          },
          "metadata": {
            "tags": []
          },
          "execution_count": 13
        }
      ]
    },
    {
      "cell_type": "markdown",
      "metadata": {
        "id": "yz1urSUGW9iE",
        "colab_type": "text"
      },
      "source": [
        "### Are there missing values in the dataset?"
      ]
    },
    {
      "cell_type": "code",
      "metadata": {
        "id": "plk2FjbCXOqP",
        "colab_type": "code",
        "outputId": "209d4fc0-c39a-41ce-b1e4-01da0dbbe2f2",
        "colab": {
          "base_uri": "https://localhost:8080/",
          "height": 170
        }
      },
      "source": [
        "# List features with missing values in descending order\n",
        "(df_work.isnull().sum() / df_work.shape[0]).sort_values(ascending=False)"
      ],
      "execution_count": 14,
      "outputs": [
        {
          "output_type": "execute_result",
          "data": {
            "text/plain": [
              "review_scores_location          0.212118\n",
              "review_scores_rating            0.210883\n",
              "neighbourhood                   0.061131\n",
              "city                            0.000386\n",
              "price                           0.000000\n",
              "neighbourhood_group_cleansed    0.000000\n",
              "neighbourhood_cleansed          0.000000\n",
              "id                              0.000000\n",
              "dtype: float64"
            ]
          },
          "metadata": {
            "tags": []
          },
          "execution_count": 14
        }
      ]
    },
    {
      "cell_type": "markdown",
      "metadata": {
        "id": "IZ0ukC4MiB3O",
        "colab_type": "text"
      },
      "source": [
        "#### Learning about missing neighbourhood"
      ]
    },
    {
      "cell_type": "code",
      "metadata": {
        "id": "JYFS55yih-Bg",
        "colab_type": "code",
        "outputId": "fc6ee43e-4da7-4c74-e6d7-8275038047eb",
        "colab": {
          "base_uri": "https://localhost:8080/",
          "height": 34
        }
      },
      "source": [
        "print(\"There are {} posts out of {} without neighbourhood\".format(df_work['neighbourhood'].isnull().sum(), df_work.shape[0]))"
      ],
      "execution_count": 15,
      "outputs": [
        {
          "output_type": "stream",
          "text": [
            "There are 2375 posts out of 38851 without neighbourhood\n"
          ],
          "name": "stdout"
        }
      ]
    },
    {
      "cell_type": "code",
      "metadata": {
        "id": "XfZbI2tvgX1I",
        "colab_type": "code",
        "outputId": "058d2ddf-2bd5-491f-bf1a-0466f0602480",
        "colab": {
          "base_uri": "https://localhost:8080/",
          "height": 419
        }
      },
      "source": [
        "df_work[['neighbourhood_cleansed','neighbourhood']][df_work.neighbourhood.isnull()]"
      ],
      "execution_count": 16,
      "outputs": [
        {
          "output_type": "execute_result",
          "data": {
            "text/html": [
              "<div>\n",
              "<style scoped>\n",
              "    .dataframe tbody tr th:only-of-type {\n",
              "        vertical-align: middle;\n",
              "    }\n",
              "\n",
              "    .dataframe tbody tr th {\n",
              "        vertical-align: top;\n",
              "    }\n",
              "\n",
              "    .dataframe thead th {\n",
              "        text-align: right;\n",
              "    }\n",
              "</style>\n",
              "<table border=\"1\" class=\"dataframe\">\n",
              "  <thead>\n",
              "    <tr style=\"text-align: right;\">\n",
              "      <th></th>\n",
              "      <th>neighbourhood_cleansed</th>\n",
              "      <th>neighbourhood</th>\n",
              "    </tr>\n",
              "  </thead>\n",
              "  <tbody>\n",
              "    <tr>\n",
              "      <th>146</th>\n",
              "      <td>Calabasas</td>\n",
              "      <td>NaN</td>\n",
              "    </tr>\n",
              "    <tr>\n",
              "      <th>230</th>\n",
              "      <td>Unincorporated Santa Monica Mountains</td>\n",
              "      <td>NaN</td>\n",
              "    </tr>\n",
              "    <tr>\n",
              "      <th>252</th>\n",
              "      <td>Agua Dulce</td>\n",
              "      <td>NaN</td>\n",
              "    </tr>\n",
              "    <tr>\n",
              "      <th>379</th>\n",
              "      <td>Rowland Heights</td>\n",
              "      <td>NaN</td>\n",
              "    </tr>\n",
              "    <tr>\n",
              "      <th>521</th>\n",
              "      <td>Northeast Antelope Valley</td>\n",
              "      <td>NaN</td>\n",
              "    </tr>\n",
              "    <tr>\n",
              "      <th>...</th>\n",
              "      <td>...</td>\n",
              "      <td>...</td>\n",
              "    </tr>\n",
              "    <tr>\n",
              "      <th>38816</th>\n",
              "      <td>Porter Ranch</td>\n",
              "      <td>NaN</td>\n",
              "    </tr>\n",
              "    <tr>\n",
              "      <th>38817</th>\n",
              "      <td>West Hollywood</td>\n",
              "      <td>NaN</td>\n",
              "    </tr>\n",
              "    <tr>\n",
              "      <th>38818</th>\n",
              "      <td>Porter Ranch</td>\n",
              "      <td>NaN</td>\n",
              "    </tr>\n",
              "    <tr>\n",
              "      <th>38819</th>\n",
              "      <td>Beverly Hills</td>\n",
              "      <td>NaN</td>\n",
              "    </tr>\n",
              "    <tr>\n",
              "      <th>38826</th>\n",
              "      <td>Claremont</td>\n",
              "      <td>NaN</td>\n",
              "    </tr>\n",
              "  </tbody>\n",
              "</table>\n",
              "<p>2375 rows × 2 columns</p>\n",
              "</div>"
            ],
            "text/plain": [
              "                      neighbourhood_cleansed neighbourhood\n",
              "146                                Calabasas           NaN\n",
              "230    Unincorporated Santa Monica Mountains           NaN\n",
              "252                               Agua Dulce           NaN\n",
              "379                          Rowland Heights           NaN\n",
              "521                Northeast Antelope Valley           NaN\n",
              "...                                      ...           ...\n",
              "38816                           Porter Ranch           NaN\n",
              "38817                         West Hollywood           NaN\n",
              "38818                           Porter Ranch           NaN\n",
              "38819                          Beverly Hills           NaN\n",
              "38826                              Claremont           NaN\n",
              "\n",
              "[2375 rows x 2 columns]"
            ]
          },
          "metadata": {
            "tags": []
          },
          "execution_count": 16
        }
      ]
    },
    {
      "cell_type": "markdown",
      "metadata": {
        "id": "qTS6YgUI7mko",
        "colab_type": "text"
      },
      "source": [
        "According to Inside Airbnb (http://insideairbnb.com/about.html) \"*neighbourhood names for each listing are compiled by comparing the listing's geographic coordinates with a city's definition of neighbourhoods. Airbnb neighbourhood names are not used because of their inaccuracies*\".\n",
        "\n",
        "Because of this, I'll be working only with neighbourhood_cleansed data."
      ]
    },
    {
      "cell_type": "code",
      "metadata": {
        "id": "bY0nTzpvZ0N4",
        "colab_type": "code",
        "colab": {}
      },
      "source": [
        "# Keeping only neighbourhood_cleansed.\n",
        "df_work.drop('neighbourhood', axis=1, inplace=True)"
      ],
      "execution_count": 0,
      "outputs": []
    },
    {
      "cell_type": "markdown",
      "metadata": {
        "id": "Kjhb0Tj7hhSS",
        "colab_type": "text"
      },
      "source": [
        "#### Learning about missing reviews"
      ]
    },
    {
      "cell_type": "code",
      "metadata": {
        "id": "3jUh6xfoev1x",
        "colab_type": "code",
        "outputId": "293b6f72-6780-4d14-95c8-0ae4315beb9c",
        "colab": {
          "base_uri": "https://localhost:8080/",
          "height": 51
        }
      },
      "source": [
        "print(\"There are {} ads out of {} without rating reviews\".format(df_work['review_scores_rating'].isnull().sum(), df_work.shape[0]))\n",
        "print(\"There are {} ads out of {} without location reviews\".format(df_work['review_scores_location'].isnull().sum(), df_work.shape[0]))"
      ],
      "execution_count": 18,
      "outputs": [
        {
          "output_type": "stream",
          "text": [
            "There are 8193 ads out of 38851 without rating reviews\n",
            "There are 8241 ads out of 38851 without location reviews\n"
          ],
          "name": "stdout"
        }
      ]
    },
    {
      "cell_type": "markdown",
      "metadata": {
        "id": "BST1xqkhn61Y",
        "colab_type": "text"
      },
      "source": [
        "There are around 21% of missing reviews. It's a big deal because, along price, reviews are the main point of this analysis. So I'm keeping only ads with reviews."
      ]
    },
    {
      "cell_type": "code",
      "metadata": {
        "id": "9qmvRbbkhVw7",
        "colab_type": "code",
        "outputId": "cc8d3e71-520c-41d4-ed18-37a7c197d393",
        "colab": {
          "base_uri": "https://localhost:8080/",
          "height": 153
        }
      },
      "source": [
        "df_work.count()"
      ],
      "execution_count": 19,
      "outputs": [
        {
          "output_type": "execute_result",
          "data": {
            "text/plain": [
              "id                              38851\n",
              "neighbourhood_cleansed          38851\n",
              "neighbourhood_group_cleansed    38851\n",
              "city                            38836\n",
              "review_scores_rating            30658\n",
              "review_scores_location          30610\n",
              "price                           38851\n",
              "dtype: int64"
            ]
          },
          "metadata": {
            "tags": []
          },
          "execution_count": 19
        }
      ]
    },
    {
      "cell_type": "code",
      "metadata": {
        "id": "Evn--c0VSyPp",
        "colab_type": "code",
        "colab": {}
      },
      "source": [
        "df_work.dropna(subset=['review_scores_rating','review_scores_location'], inplace=True)"
      ],
      "execution_count": 0,
      "outputs": []
    },
    {
      "cell_type": "code",
      "metadata": {
        "id": "BQL2NakCSLgv",
        "colab_type": "code",
        "outputId": "7e8200fb-daea-4236-920b-66ea98077e47",
        "colab": {
          "base_uri": "https://localhost:8080/",
          "height": 153
        }
      },
      "source": [
        "df_work.count()"
      ],
      "execution_count": 21,
      "outputs": [
        {
          "output_type": "execute_result",
          "data": {
            "text/plain": [
              "id                              30609\n",
              "neighbourhood_cleansed          30609\n",
              "neighbourhood_group_cleansed    30609\n",
              "city                            30596\n",
              "review_scores_rating            30609\n",
              "review_scores_location          30609\n",
              "price                           30609\n",
              "dtype: int64"
            ]
          },
          "metadata": {
            "tags": []
          },
          "execution_count": 21
        }
      ]
    },
    {
      "cell_type": "markdown",
      "metadata": {
        "id": "iHXvvHIxaoNc",
        "colab_type": "text"
      },
      "source": [
        "### How numeric values are distributed in the working dataset?"
      ]
    },
    {
      "cell_type": "code",
      "metadata": {
        "id": "uOpL3ZDoR8eZ",
        "colab_type": "code",
        "outputId": "5481c081-c061-4b99-8d14-c923f93e22d2",
        "colab": {
          "base_uri": "https://localhost:8080/",
          "height": 499
        }
      },
      "source": [
        "relevant_numeric_features = ['price', 'review_scores_rating', 'review_scores_location']\n",
        "df_work[relevant_numeric_features].hist(bins=15, figsize=(20,8));"
      ],
      "execution_count": 22,
      "outputs": [
        {
          "output_type": "display_data",
          "data": {
            "image/png": "[encoded data removed]",
            "text/plain": [
              "<Figure size 1440x576 with 4 Axes>"
            ]
          },
          "metadata": {
            "tags": []
          }
        }
      ]
    },
    {
      "cell_type": "code",
      "metadata": {
        "id": "gngLBRFDLPdR",
        "colab_type": "code",
        "outputId": "ce730631-d749-4028-e580-293e9a4c5d95",
        "colab": {
          "base_uri": "https://localhost:8080/",
          "height": 297
        }
      },
      "source": [
        "# Statistical summary\n",
        "df_work[relevant_numeric_features].describe()"
      ],
      "execution_count": 23,
      "outputs": [
        {
          "output_type": "execute_result",
          "data": {
            "text/html": [
              "<div>\n",
              "<style scoped>\n",
              "    .dataframe tbody tr th:only-of-type {\n",
              "        vertical-align: middle;\n",
              "    }\n",
              "\n",
              "    .dataframe tbody tr th {\n",
              "        vertical-align: top;\n",
              "    }\n",
              "\n",
              "    .dataframe thead th {\n",
              "        text-align: right;\n",
              "    }\n",
              "</style>\n",
              "<table border=\"1\" class=\"dataframe\">\n",
              "  <thead>\n",
              "    <tr style=\"text-align: right;\">\n",
              "      <th></th>\n",
              "      <th>price</th>\n",
              "      <th>review_scores_rating</th>\n",
              "      <th>review_scores_location</th>\n",
              "    </tr>\n",
              "  </thead>\n",
              "  <tbody>\n",
              "    <tr>\n",
              "      <th>count</th>\n",
              "      <td>30609.000000</td>\n",
              "      <td>30609.000000</td>\n",
              "      <td>30609.000000</td>\n",
              "    </tr>\n",
              "    <tr>\n",
              "      <th>mean</th>\n",
              "      <td>170.510961</td>\n",
              "      <td>9.435280</td>\n",
              "      <td>9.704433</td>\n",
              "    </tr>\n",
              "    <tr>\n",
              "      <th>std</th>\n",
              "      <td>318.259576</td>\n",
              "      <td>0.879945</td>\n",
              "      <td>0.724294</td>\n",
              "    </tr>\n",
              "    <tr>\n",
              "      <th>min</th>\n",
              "      <td>0.000000</td>\n",
              "      <td>2.000000</td>\n",
              "      <td>2.000000</td>\n",
              "    </tr>\n",
              "    <tr>\n",
              "      <th>25%</th>\n",
              "      <td>69.000000</td>\n",
              "      <td>9.300000</td>\n",
              "      <td>10.000000</td>\n",
              "    </tr>\n",
              "    <tr>\n",
              "      <th>50%</th>\n",
              "      <td>105.000000</td>\n",
              "      <td>9.700000</td>\n",
              "      <td>10.000000</td>\n",
              "    </tr>\n",
              "    <tr>\n",
              "      <th>75%</th>\n",
              "      <td>178.000000</td>\n",
              "      <td>10.000000</td>\n",
              "      <td>10.000000</td>\n",
              "    </tr>\n",
              "    <tr>\n",
              "      <th>max</th>\n",
              "      <td>10000.000000</td>\n",
              "      <td>10.000000</td>\n",
              "      <td>10.000000</td>\n",
              "    </tr>\n",
              "  </tbody>\n",
              "</table>\n",
              "</div>"
            ],
            "text/plain": [
              "              price  review_scores_rating  review_scores_location\n",
              "count  30609.000000          30609.000000            30609.000000\n",
              "mean     170.510961              9.435280                9.704433\n",
              "std      318.259576              0.879945                0.724294\n",
              "min        0.000000              2.000000                2.000000\n",
              "25%       69.000000              9.300000               10.000000\n",
              "50%      105.000000              9.700000               10.000000\n",
              "75%      178.000000             10.000000               10.000000\n",
              "max    10000.000000             10.000000               10.000000"
            ]
          },
          "metadata": {
            "tags": []
          },
          "execution_count": 23
        }
      ]
    },
    {
      "cell_type": "markdown",
      "metadata": {
        "id": "DJc0jJpIiktM",
        "colab_type": "text"
      },
      "source": [
        "With 75% of offers below $178 and prices up to \\$10k, we definitely have outliers. \n",
        "\n",
        "When it comes to reviews, 75% of overall reviews are rated above 9.3 while 75% of location reviews are rated 10. Does that mean that the vast majority of places are really exceptional? Or do people tend to write reviews only when they liked their stay?\n",
        "\n",
        "*Writing down a note to do a deeper review analisys in the future.*"
      ]
    },
    {
      "cell_type": "markdown",
      "metadata": {
        "id": "AYXA2SHbKIja",
        "colab_type": "text"
      },
      "source": [
        "#### Dealing with price outliers"
      ]
    },
    {
      "cell_type": "code",
      "metadata": {
        "id": "8_czYxhjLcR5",
        "colab_type": "code",
        "outputId": "dba7ee80-9f09-4b8e-8c04-e0b37d1c7e8e",
        "colab": {
          "base_uri": "https://localhost:8080/",
          "height": 357
        }
      },
      "source": [
        "# Show number of offers with price above some tresholds \n",
        "tresholds = [5000, 2500, 1500, 1000, 500]\n",
        "for treshold in tresholds:\n",
        "  print(\"\\nPrice over {}\".format(treshold))\n",
        "  print(\"{} offers\".format(len(df_work[df_work.price > treshold])))\n",
        "  print(\"{:.4f}%\".format((len(df_work[df_work.price > treshold]) / df_work.shape[0])*100))"
      ],
      "execution_count": 24,
      "outputs": [
        {
          "output_type": "stream",
          "text": [
            "\n",
            "Price over 5000\n",
            "21 offers\n",
            "0.0686%\n",
            "\n",
            "Price over 2500\n",
            "58 offers\n",
            "0.1895%\n",
            "\n",
            "Price over 1500\n",
            "168 offers\n",
            "0.5489%\n",
            "\n",
            "Price over 1000\n",
            "345 offers\n",
            "1.1271%\n",
            "\n",
            "Price over 500\n",
            "1200 offers\n",
            "3.9204%\n"
          ],
          "name": "stdout"
        }
      ]
    },
    {
      "cell_type": "markdown",
      "metadata": {
        "id": "0AEhXGayN0Jt",
        "colab_type": "text"
      },
      "source": [
        "I will limit the data with a rent of a maximum of \\$1000, which will get rid of the biggest outliers while keeping a few expensives offers (>$500)"
      ]
    },
    {
      "cell_type": "code",
      "metadata": {
        "id": "7kn-5Fmnc55T",
        "colab_type": "code",
        "colab": {}
      },
      "source": [
        "price_upper_limit = 1000"
      ],
      "execution_count": 0,
      "outputs": []
    },
    {
      "cell_type": "code",
      "metadata": {
        "id": "7JFAFDiFslyN",
        "colab_type": "code",
        "outputId": "ee75ded8-1fe0-46a3-b01c-5a91c5227ac3",
        "colab": {
          "base_uri": "https://localhost:8080/",
          "height": 357
        }
      },
      "source": [
        "# Show number of offers with price below tsome resholds \n",
        "tresholds = [10, 25, 50, 100, 200]\n",
        "for treshold in tresholds:\n",
        "  print(\"\\nPrice lower than {}\".format(treshold))\n",
        "  print(\"{} offers\".format(len(df_work[df_work.price < treshold])))\n",
        "  print(\"{:.4f}%\".format((len(df_work[df_work.price < treshold]) / df_work.shape[0])*100))"
      ],
      "execution_count": 26,
      "outputs": [
        {
          "output_type": "stream",
          "text": [
            "\n",
            "Price lower than 10\n",
            "4 offers\n",
            "0.0131%\n",
            "\n",
            "Price lower than 25\n",
            "380 offers\n",
            "1.2415%\n",
            "\n",
            "Price lower than 50\n",
            "3830 offers\n",
            "12.5127%\n",
            "\n",
            "Price lower than 100\n",
            "14083 offers\n",
            "46.0093%\n",
            "\n",
            "Price lower than 200\n",
            "24461 offers\n",
            "79.9144%\n"
          ],
          "name": "stdout"
        }
      ]
    },
    {
      "cell_type": "markdown",
      "metadata": {
        "id": "qUxBp5l1vlJK",
        "colab_type": "text"
      },
      "source": [
        "I will limit the data with rent of at least \\$25"
      ]
    },
    {
      "cell_type": "code",
      "metadata": {
        "id": "tktdy6DYeAx7",
        "colab_type": "code",
        "colab": {}
      },
      "source": [
        "price_lower_limit = 25"
      ],
      "execution_count": 0,
      "outputs": []
    },
    {
      "cell_type": "code",
      "metadata": {
        "id": "8q1mr9FjNzPv",
        "colab_type": "code",
        "colab": {}
      },
      "source": [
        "# Dropping prices that are out of chosen limit\n",
        "df_work.drop(df_work[(df_work.price < price_lower_limit) | (df_work.price > price_upper_limit)].index, axis=0, inplace=True)"
      ],
      "execution_count": 0,
      "outputs": []
    },
    {
      "cell_type": "markdown",
      "metadata": {
        "id": "qsWDP2UsQ1pL",
        "colab_type": "text"
      },
      "source": [
        "Let's take a look at the new dataframe"
      ]
    },
    {
      "cell_type": "code",
      "metadata": {
        "id": "-qO7A6rfQZ5H",
        "colab_type": "code",
        "outputId": "dc308959-4195-4254-bf24-acceb8ad1d56",
        "colab": {
          "base_uri": "https://localhost:8080/",
          "height": 377
        }
      },
      "source": [
        "# Plotting the prices in the new dataframe\n",
        "df_work.price.hist(bins=15, figsize=(15,6));"
      ],
      "execution_count": 29,
      "outputs": [
        {
          "output_type": "display_data",
          "data": {
            "image/png": "[encoded data removed]",
            "text/plain": [
              "<Figure size 1080x432 with 1 Axes>"
            ]
          },
          "metadata": {
            "tags": []
          }
        }
      ]
    },
    {
      "cell_type": "code",
      "metadata": {
        "id": "P2G33hkYRA87",
        "colab_type": "code",
        "outputId": "48752777-dfc1-4179-9f31-60505765174e",
        "colab": {
          "base_uri": "https://localhost:8080/",
          "height": 170
        }
      },
      "source": [
        "# Statistical summary\n",
        "df_work.price.describe()"
      ],
      "execution_count": 30,
      "outputs": [
        {
          "output_type": "execute_result",
          "data": {
            "text/plain": [
              "count    29884.000000\n",
              "mean       149.204558\n",
              "std        138.009322\n",
              "min         25.000000\n",
              "25%         70.000000\n",
              "50%        105.000000\n",
              "75%        175.000000\n",
              "max       1000.000000\n",
              "Name: price, dtype: float64"
            ]
          },
          "metadata": {
            "tags": []
          },
          "execution_count": 30
        }
      ]
    },
    {
      "cell_type": "markdown",
      "metadata": {
        "id": "cXG1yVL4YJoX",
        "colab_type": "text"
      },
      "source": [
        "## Analyzing the data"
      ]
    },
    {
      "cell_type": "markdown",
      "metadata": {
        "id": "6BtsL-Zckbi8",
        "colab_type": "text"
      },
      "source": [
        "### Location"
      ]
    },
    {
      "cell_type": "markdown",
      "metadata": {
        "id": "f65f3418kmww",
        "colab_type": "text"
      },
      "source": [
        "#### Overview and further clean up"
      ]
    },
    {
      "cell_type": "code",
      "metadata": {
        "id": "hWfUSkV9kp5d",
        "colab_type": "code",
        "outputId": "b1d83d76-64a0-488a-ab30-1c74bc563bb3",
        "colab": {
          "base_uri": "https://localhost:8080/",
          "height": 34
        }
      },
      "source": [
        "# Counting location values\n",
        "number_of_neighbourhoods = df_work.neighbourhood_cleansed.value_counts(ascending=True).shape[0]\n",
        "number_of_neighbourhoods_groups = df_work.neighbourhood_group_cleansed.value_counts(ascending=True).shape[0]\n",
        "number_of_cities = df_work.city.value_counts(ascending=True).shape[0]\n",
        "\n",
        "print(\"There are {} neighbourhoods, {} neighbourhood groups and {} cities in the dataset\".format(number_of_neighbourhoods, number_of_neighbourhoods_groups, number_of_cities))"
      ],
      "execution_count": 31,
      "outputs": [
        {
          "output_type": "stream",
          "text": [
            "There are 263 neighbourhoods, 3 neighbourhood groups and 367 cities in the dataset\n"
          ],
          "name": "stdout"
        }
      ]
    },
    {
      "cell_type": "code",
      "metadata": {
        "id": "PhxsBAb9WO_n",
        "colab_type": "code",
        "outputId": "2ad050fc-b3f3-48e5-cc24-0029eae71a08",
        "colab": {
          "base_uri": "https://localhost:8080/",
          "height": 85
        }
      },
      "source": [
        "# What are the neighbourhood groups?\n",
        "df_work.neighbourhood_group_cleansed.value_counts(ascending=True)"
      ],
      "execution_count": 32,
      "outputs": [
        {
          "output_type": "execute_result",
          "data": {
            "text/plain": [
              "Unincorporated Areas     2334\n",
              "Other Cities            10105\n",
              "City of Los Angeles     17445\n",
              "Name: neighbourhood_group_cleansed, dtype: int64"
            ]
          },
          "metadata": {
            "tags": []
          },
          "execution_count": 32
        }
      ]
    },
    {
      "cell_type": "markdown",
      "metadata": {
        "id": "UJJOUpAtWf53",
        "colab_type": "text"
      },
      "source": [
        "Neighbourhood groups are irrelevant for this analysis. Also I understand neighbourhood give us a better sense of location grouping than city. So I'll be working only with neighbourhoods."
      ]
    },
    {
      "cell_type": "code",
      "metadata": {
        "id": "RtwTyFncXuX6",
        "colab_type": "code",
        "outputId": "8cb4d41d-0dd6-4e61-ecec-289ef1af152e",
        "colab": {
          "base_uri": "https://localhost:8080/",
          "height": 204
        }
      },
      "source": [
        "# Dropping unwanted columns and renamig the remaining ones\n",
        "df_work.drop(columns=['neighbourhood_group_cleansed', 'city'], axis=1, inplace=True)\n",
        "df_work.rename(columns={'neighbourhood_cleansed':'neighbourhood'}, inplace=True)\n",
        "df_work.head()"
      ],
      "execution_count": 33,
      "outputs": [
        {
          "output_type": "execute_result",
          "data": {
            "text/html": [
              "<div>\n",
              "<style scoped>\n",
              "    .dataframe tbody tr th:only-of-type {\n",
              "        vertical-align: middle;\n",
              "    }\n",
              "\n",
              "    .dataframe tbody tr th {\n",
              "        vertical-align: top;\n",
              "    }\n",
              "\n",
              "    .dataframe thead th {\n",
              "        text-align: right;\n",
              "    }\n",
              "</style>\n",
              "<table border=\"1\" class=\"dataframe\">\n",
              "  <thead>\n",
              "    <tr style=\"text-align: right;\">\n",
              "      <th></th>\n",
              "      <th>id</th>\n",
              "      <th>neighbourhood</th>\n",
              "      <th>review_scores_rating</th>\n",
              "      <th>review_scores_location</th>\n",
              "      <th>price</th>\n",
              "    </tr>\n",
              "  </thead>\n",
              "  <tbody>\n",
              "    <tr>\n",
              "      <th>0</th>\n",
              "      <td>109</td>\n",
              "      <td>Culver City</td>\n",
              "      <td>8.0</td>\n",
              "      <td>10.0</td>\n",
              "      <td>122.0</td>\n",
              "    </tr>\n",
              "    <tr>\n",
              "      <th>1</th>\n",
              "      <td>344</td>\n",
              "      <td>Burbank</td>\n",
              "      <td>9.7</td>\n",
              "      <td>10.0</td>\n",
              "      <td>168.0</td>\n",
              "    </tr>\n",
              "    <tr>\n",
              "      <th>2</th>\n",
              "      <td>2708</td>\n",
              "      <td>Hollywood</td>\n",
              "      <td>9.8</td>\n",
              "      <td>10.0</td>\n",
              "      <td>79.0</td>\n",
              "    </tr>\n",
              "    <tr>\n",
              "      <th>3</th>\n",
              "      <td>2732</td>\n",
              "      <td>Santa Monica</td>\n",
              "      <td>9.4</td>\n",
              "      <td>10.0</td>\n",
              "      <td>140.0</td>\n",
              "    </tr>\n",
              "    <tr>\n",
              "      <th>5</th>\n",
              "      <td>5728</td>\n",
              "      <td>Del Rey</td>\n",
              "      <td>9.6</td>\n",
              "      <td>10.0</td>\n",
              "      <td>75.0</td>\n",
              "    </tr>\n",
              "  </tbody>\n",
              "</table>\n",
              "</div>"
            ],
            "text/plain": [
              "     id neighbourhood  review_scores_rating  review_scores_location  price\n",
              "0   109   Culver City                   8.0                    10.0  122.0\n",
              "1   344       Burbank                   9.7                    10.0  168.0\n",
              "2  2708     Hollywood                   9.8                    10.0   79.0\n",
              "3  2732  Santa Monica                   9.4                    10.0  140.0\n",
              "5  5728       Del Rey                   9.6                    10.0   75.0"
            ]
          },
          "metadata": {
            "tags": []
          },
          "execution_count": 33
        }
      ]
    },
    {
      "cell_type": "markdown",
      "metadata": {
        "id": "2GgxCsUSZfII",
        "colab_type": "text"
      },
      "source": [
        "#### Grouping neighbourhoods"
      ]
    },
    {
      "cell_type": "markdown",
      "metadata": {
        "id": "FHdNCr0eaP3q",
        "colab_type": "text"
      },
      "source": [
        "##### Grouping neighbourhoods by number of ads"
      ]
    },
    {
      "cell_type": "code",
      "metadata": {
        "id": "vueIJj21ZwX6",
        "colab_type": "code",
        "outputId": "5077bd9d-2964-4cd5-afbb-fbb2db2579ef",
        "colab": {
          "base_uri": "https://localhost:8080/",
          "height": 34
        }
      },
      "source": [
        "ads_per_neighbourhoods = df_work.neighbourhood.value_counts(ascending=True)\n",
        "ads_per_neighbourhoods.shape"
      ],
      "execution_count": 34,
      "outputs": [
        {
          "output_type": "execute_result",
          "data": {
            "text/plain": [
              "(263,)"
            ]
          },
          "metadata": {
            "tags": []
          },
          "execution_count": 34
        }
      ]
    },
    {
      "cell_type": "code",
      "metadata": {
        "id": "XRtjz-6Nfxs8",
        "colab_type": "code",
        "outputId": "d93b3a19-ded5-44ad-9059-94faed57b37d",
        "colab": {
          "base_uri": "https://localhost:8080/",
          "height": 170
        }
      },
      "source": [
        "ads_per_neighbourhoods.describe()"
      ],
      "execution_count": 35,
      "outputs": [
        {
          "output_type": "execute_result",
          "data": {
            "text/plain": [
              "count     263.000000\n",
              "mean      113.627376\n",
              "std       215.582944\n",
              "min         1.000000\n",
              "25%         9.000000\n",
              "50%        40.000000\n",
              "75%       111.500000\n",
              "max      1662.000000\n",
              "Name: neighbourhood, dtype: float64"
            ]
          },
          "metadata": {
            "tags": []
          },
          "execution_count": 35
        }
      ]
    },
    {
      "cell_type": "markdown",
      "metadata": {
        "id": "fhgLJbxliuaG",
        "colab_type": "text"
      },
      "source": [
        "I'll keep only neighbourhoods with at least 30 ads.\n"
      ]
    },
    {
      "cell_type": "code",
      "metadata": {
        "id": "gv5cpTkJitX0",
        "colab_type": "code",
        "outputId": "343dbdb7-dded-4565-e710-b0cc20b880a0",
        "colab": {
          "base_uri": "https://localhost:8080/",
          "height": 1000
        }
      },
      "source": [
        "# Minimum ads per neighbourhood\n",
        "minimum_ads_per_neighbourhood = 30\n",
        "\n",
        "# Get the list of neighbourhoods without minimum number of ads\n",
        "list_of_neighbourhoods_without_min_ads = ads_per_neighbourhoods[ads_per_neighbourhoods < minimum_ads_per_neighbourhood].index.to_list()\n",
        "list_of_neighbourhoods_without_min_ads"
      ],
      "execution_count": 36,
      "outputs": [
        {
          "output_type": "execute_result",
          "data": {
            "text/plain": [
              "['Commerce',\n",
              " 'Hawaiian Gardens',\n",
              " 'Chatsworth Reservoir',\n",
              " 'Desert View Highlands',\n",
              " 'Lake Hughes',\n",
              " 'Ridge Route',\n",
              " 'East Compton',\n",
              " 'South Diamond Bar',\n",
              " 'Lopez/Kagel Canyons',\n",
              " 'West Compton',\n",
              " 'Sepulveda Basin',\n",
              " 'Bradbury',\n",
              " 'Rolling Hills',\n",
              " 'North Whittier',\n",
              " 'Hasley Canyon',\n",
              " 'Acton',\n",
              " 'Harvard Park',\n",
              " 'Val Verde',\n",
              " 'Athens',\n",
              " 'South El Monte',\n",
              " 'Tujunga Canyons',\n",
              " 'Vernon',\n",
              " 'Lake Los Angeles',\n",
              " 'Santa Fe Springs',\n",
              " 'Bell Gardens',\n",
              " 'Northwest Antelope Valley',\n",
              " 'Watts',\n",
              " 'East Whittier',\n",
              " 'Northeast Antelope Valley',\n",
              " 'Rancho Dominguez',\n",
              " 'Universal City',\n",
              " 'Paramount',\n",
              " 'Lake View Terrace',\n",
              " 'Arleta',\n",
              " 'Bell',\n",
              " 'Leona Valley',\n",
              " 'Florence',\n",
              " 'Sun Village',\n",
              " 'Palos Verdes Estates',\n",
              " 'Quartz Hill',\n",
              " 'Vermont Vista',\n",
              " 'Citrus',\n",
              " 'Green Meadows',\n",
              " 'Vincent',\n",
              " 'Angeles Crest',\n",
              " 'Rolling Hills Estates',\n",
              " 'Pacoima',\n",
              " 'Unincorporated Catalina Island',\n",
              " 'Charter Oak',\n",
              " 'Westlake Village',\n",
              " 'Northwest Palmdale',\n",
              " 'La Mirada',\n",
              " 'San Marino',\n",
              " 'Irwindale',\n",
              " 'Stevenson Ranch',\n",
              " 'Veterans Administration',\n",
              " 'Unincorporated Santa Susana Mountains',\n",
              " 'West Whittier-Los Nietos',\n",
              " 'Mission Hills',\n",
              " 'Huntington Park',\n",
              " 'South San Jose Hills',\n",
              " 'San Fernando',\n",
              " 'Maywood',\n",
              " 'South Park',\n",
              " 'Vermont-Slauson',\n",
              " 'Green Valley',\n",
              " 'Compton',\n",
              " 'Sunland',\n",
              " 'West Puente Valley',\n",
              " 'Griffith Park',\n",
              " 'Avocado Heights',\n",
              " 'Broadway-Manchester',\n",
              " 'Southeast Antelope Valley',\n",
              " 'Porter Ranch',\n",
              " 'Agua Dulce',\n",
              " 'Vermont Knolls',\n",
              " 'Manchester Square',\n",
              " 'La Puente',\n",
              " 'South Whittier',\n",
              " 'Central-Alameda',\n",
              " 'North El Monte',\n",
              " 'Castaic Canyons',\n",
              " 'Chesterfield Square',\n",
              " 'Cypress Park',\n",
              " 'Gramercy Park',\n",
              " 'Willowbrook',\n",
              " 'La Habra Heights',\n",
              " 'Alondra Park',\n",
              " 'Elysian Park',\n",
              " 'San Pasqual',\n",
              " 'South Gate',\n",
              " 'Sierra Madre',\n",
              " 'Harbor City',\n",
              " 'Florence-Firestone',\n",
              " 'Artesia',\n",
              " 'Castaic',\n",
              " 'Mayflower Village',\n",
              " 'Valinda',\n",
              " 'Tujunga',\n",
              " 'Westmont',\n",
              " 'Lennox',\n",
              " 'Duarte',\n",
              " 'Shadow Hills',\n",
              " 'Lynwood',\n",
              " 'Century City',\n",
              " 'San Dimas',\n",
              " 'Elysian Valley',\n",
              " 'Lomita',\n",
              " 'Panorama City',\n",
              " 'Historic South-Central',\n",
              " 'Beverlywood',\n",
              " 'Sylmar',\n",
              " 'Cerritos',\n",
              " 'Bel-Air',\n",
              " 'La Crescenta-Montrose',\n",
              " 'Bellflower',\n",
              " 'Cheviot Hills',\n",
              " 'West Carson']"
            ]
          },
          "metadata": {
            "tags": []
          },
          "execution_count": 36
        }
      ]
    },
    {
      "cell_type": "code",
      "metadata": {
        "id": "Zoc0ACjtph4b",
        "colab_type": "code",
        "colab": {}
      },
      "source": [
        "# Remove neighbourhoods without minimum number of ads from series ads_per_neighbourhoods\n",
        "ads_per_neighbourhoods.drop(labels=list_of_neighbourhoods_without_min_ads, inplace=True)"
      ],
      "execution_count": 0,
      "outputs": []
    },
    {
      "cell_type": "code",
      "metadata": {
        "id": "seHf_ZPFmS18",
        "colab_type": "code",
        "outputId": "a6758d27-f26a-49b9-b6c6-b675afd09b51",
        "colab": {
          "base_uri": "https://localhost:8080/",
          "height": 34
        }
      },
      "source": [
        "# Remove neighbourhoods without minimum number of ads from the working dataframe\n",
        "df_work.drop(df_work.neighbourhood[df_work.neighbourhood.isin(list_of_neighbourhoods_without_min_ads)].index, inplace=True)\n",
        "df_work.neighbourhood.value_counts(ascending=True).shape"
      ],
      "execution_count": 38,
      "outputs": [
        {
          "output_type": "execute_result",
          "data": {
            "text/plain": [
              "(145,)"
            ]
          },
          "metadata": {
            "tags": []
          },
          "execution_count": 38
        }
      ]
    },
    {
      "cell_type": "code",
      "metadata": {
        "id": "PMbN008UnhJc",
        "colab_type": "code",
        "outputId": "84e89f77-ccab-4e24-8462-8f2b3f245ad0",
        "colab": {
          "base_uri": "https://localhost:8080/",
          "height": 204
        }
      },
      "source": [
        "# Neighborhoods with less rental offers\n",
        "ads_per_neighbourhoods[:10]"
      ],
      "execution_count": 39,
      "outputs": [
        {
          "output_type": "execute_result",
          "data": {
            "text/plain": [
              "South San Gabriel       30\n",
              "Montebello              30\n",
              "La Canada Flintridge    30\n",
              "Agoura Hills            33\n",
              "Signal Hill             34\n",
              "Wilmington              34\n",
              "Windsor Square          35\n",
              "Baldwin Park            37\n",
              "Chatsworth              37\n",
              "Adams-Normandie         38\n",
              "Name: neighbourhood, dtype: int64"
            ]
          },
          "metadata": {
            "tags": []
          },
          "execution_count": 39
        }
      ]
    },
    {
      "cell_type": "code",
      "metadata": {
        "id": "FcIW2e-Jn4GS",
        "colab_type": "code",
        "outputId": "d2d7fba1-63b2-46a5-f277-3efe88ebd204",
        "colab": {
          "base_uri": "https://localhost:8080/",
          "height": 204
        }
      },
      "source": [
        "# Neighborhoods with more rental offers\n",
        "ads_per_neighbourhoods[-10:].sort_values(ascending=False)"
      ],
      "execution_count": 40,
      "outputs": [
        {
          "output_type": "execute_result",
          "data": {
            "text/plain": [
              "Venice             1662\n",
              "Long Beach         1523\n",
              "Hollywood          1483\n",
              "Downtown           1070\n",
              "Santa Monica        982\n",
              "Hollywood Hills     684\n",
              "West Hollywood      548\n",
              "Silver Lake         526\n",
              "Rowland Heights     505\n",
              "Westlake            502\n",
              "Name: neighbourhood, dtype: int64"
            ]
          },
          "metadata": {
            "tags": []
          },
          "execution_count": 40
        }
      ]
    },
    {
      "cell_type": "markdown",
      "metadata": {
        "colab_type": "text",
        "id": "SXt4itZ4XVJl"
      },
      "source": [
        "##### Grouping neighbourhoods by rental price averages"
      ]
    },
    {
      "cell_type": "code",
      "metadata": {
        "id": "HcSjNbXoh61f",
        "colab_type": "code",
        "outputId": "501a162a-268a-4d1d-cd19-a5f1d4050093",
        "colab": {
          "base_uri": "https://localhost:8080/",
          "height": 34
        }
      },
      "source": [
        "mean_price_per_neighbourhood = df_work.groupby(['neighbourhood']).price.mean().sort_values(ascending=True)\n",
        "mean_price_per_neighbourhood.shape"
      ],
      "execution_count": 41,
      "outputs": [
        {
          "output_type": "execute_result",
          "data": {
            "text/plain": [
              "(145,)"
            ]
          },
          "metadata": {
            "tags": []
          },
          "execution_count": 41
        }
      ]
    },
    {
      "cell_type": "code",
      "metadata": {
        "id": "k7p3pBlDfqPE",
        "colab_type": "code",
        "outputId": "261cf36e-8d27-4fa8-bbd4-b123ea77fefb",
        "colab": {
          "base_uri": "https://localhost:8080/",
          "height": 221
        }
      },
      "source": [
        "# Average price per neighbourhood - cheaper\n",
        "mean_price_per_neighbourhood[:10]"
      ],
      "execution_count": 42,
      "outputs": [
        {
          "output_type": "execute_result",
          "data": {
            "text/plain": [
              "neighbourhood\n",
              "Lancaster            53.483516\n",
              "South San Gabriel    55.833333\n",
              "Palmdale             58.893939\n",
              "Wilmington           63.029412\n",
              "Arlington Heights    64.669492\n",
              "Pico Rivera          69.315789\n",
              "La Verne             70.500000\n",
              "Carson               72.676923\n",
              "North Hills          75.615385\n",
              "Adams-Normandie      77.500000\n",
              "Name: price, dtype: float64"
            ]
          },
          "metadata": {
            "tags": []
          },
          "execution_count": 42
        }
      ]
    },
    {
      "cell_type": "code",
      "metadata": {
        "colab_type": "code",
        "id": "eVwgdwcwXVJT",
        "outputId": "96f13097-a254-461e-db2d-07b0077db58c",
        "colab": {
          "base_uri": "https://localhost:8080/",
          "height": 221
        }
      },
      "source": [
        "# Average price per neighbourhood - most expensive\n",
        "mean_price_per_neighbourhood[-10:].sort_values(ascending=False)"
      ],
      "execution_count": 43,
      "outputs": [
        {
          "output_type": "execute_result",
          "data": {
            "text/plain": [
              "neighbourhood\n",
              "Malibu                                   439.467290\n",
              "Avalon                                   384.038462\n",
              "Beverly Crest                            362.090909\n",
              "Hollywood Hills West                     323.922865\n",
              "Unincorporated Santa Monica Mountains    311.320000\n",
              "Pacific Palisades                        285.969466\n",
              "Manhattan Beach                          266.908451\n",
              "Venice                                   220.839952\n",
              "Beverly Grove                            220.478261\n",
              "Hermosa Beach                            217.875969\n",
              "Name: price, dtype: float64"
            ]
          },
          "metadata": {
            "tags": []
          },
          "execution_count": 43
        }
      ]
    },
    {
      "cell_type": "code",
      "metadata": {
        "id": "Q5xqOOy1l0yR",
        "colab_type": "code",
        "outputId": "993d9372-1e3d-44cf-cd5e-87b0db5f1f0a",
        "colab": {
          "base_uri": "https://localhost:8080/",
          "height": 391
        }
      },
      "source": [
        "# Average price per neighbourhood around mean price\n",
        "mean_price = df_work.price.mean()\n",
        "mean_price_per_neighbourhood[(mean_price_per_neighbourhood >= mean_price - 10) & (mean_price_per_neighbourhood <= mean_price + 10)]"
      ],
      "execution_count": 44,
      "outputs": [
        {
          "output_type": "execute_result",
          "data": {
            "text/plain": [
              "neighbourhood\n",
              "Tarzana           140.902655\n",
              "Valley Village    141.233645\n",
              "Claremont         143.170213\n",
              "Larchmont         143.589041\n",
              "Glendale          144.810345\n",
              "Hollywood         145.940661\n",
              "Montebello        146.200000\n",
              "Granada Hills     146.411765\n",
              "Culver City       147.534351\n",
              "Del Rey           148.835443\n",
              "Silver Lake       149.304183\n",
              "Altadena          149.668224\n",
              "Mid-Wilshire      151.010593\n",
              "Mar Vista         151.306748\n",
              "Carthay           154.359375\n",
              "Woodland Hills    157.915709\n",
              "East Pasadena     158.413793\n",
              "West Hollywood    159.076642\n",
              "Redondo Beach     160.830565\n",
              "Pico-Robertson    160.846154\n",
              "Name: price, dtype: float64"
            ]
          },
          "metadata": {
            "tags": []
          },
          "execution_count": 44
        }
      ]
    },
    {
      "cell_type": "markdown",
      "metadata": {
        "colab_type": "text",
        "id": "ObtSaVesIMDe"
      },
      "source": [
        "##### Grouping neighbourhoods by overall review scores averages"
      ]
    },
    {
      "cell_type": "code",
      "metadata": {
        "colab_type": "code",
        "outputId": "bc3046be-0165-4289-88d1-978cb4c763bf",
        "id": "5v4ynTkyIMDu",
        "colab": {
          "base_uri": "https://localhost:8080/",
          "height": 34
        }
      },
      "source": [
        "avg_review_score_rating_per_neighbourhoods = df_work.groupby(['neighbourhood']).review_scores_rating.mean().sort_values(ascending=True)\n",
        "avg_review_score_rating_per_neighbourhoods.shape"
      ],
      "execution_count": 45,
      "outputs": [
        {
          "output_type": "execute_result",
          "data": {
            "text/plain": [
              "(145,)"
            ]
          },
          "metadata": {
            "tags": []
          },
          "execution_count": 45
        }
      ]
    },
    {
      "cell_type": "code",
      "metadata": {
        "colab_type": "code",
        "outputId": "6c46c712-d337-482d-f9ef-5c35e22f9999",
        "id": "GNlgPQdkIMD_",
        "colab": {
          "base_uri": "https://localhost:8080/",
          "height": 221
        }
      },
      "source": [
        "# Neighborhoods with lower average review score\n",
        "avg_review_score_rating_per_neighbourhoods[:10]"
      ],
      "execution_count": 46,
      "outputs": [
        {
          "output_type": "execute_result",
          "data": {
            "text/plain": [
              "neighbourhood\n",
              "Exposition Park    8.791954\n",
              "Avalon             9.073077\n",
              "Marina del Rey     9.107222\n",
              "East Hollywood     9.115612\n",
              "Chinatown          9.132787\n",
              "Westlake           9.134661\n",
              "Pico-Robertson     9.135256\n",
              "Adams-Normandie    9.150000\n",
              "Koreatown          9.189956\n",
              "Rowland Heights    9.199208\n",
              "Name: review_scores_rating, dtype: float64"
            ]
          },
          "metadata": {
            "tags": []
          },
          "execution_count": 46
        }
      ]
    },
    {
      "cell_type": "code",
      "metadata": {
        "colab_type": "code",
        "outputId": "3a2d74de-92f9-4d3c-a7b7-eb20234215c6",
        "id": "Y-gik2s7IMEQ",
        "colab": {
          "base_uri": "https://localhost:8080/",
          "height": 221
        }
      },
      "source": [
        "# Neighborhoods with higher average review score\n",
        "avg_review_score_rating_per_neighbourhoods[-10:].sort_values(ascending=False)"
      ],
      "execution_count": 47,
      "outputs": [
        {
          "output_type": "execute_result",
          "data": {
            "text/plain": [
              "neighbourhood\n",
              "Unincorporated Santa Monica Mountains    9.812000\n",
              "Signal Hill                              9.791176\n",
              "Topanga                                  9.766667\n",
              "Montecito Heights                        9.733871\n",
              "Mount Washington                         9.730000\n",
              "Agoura Hills                             9.718182\n",
              "La Canada Flintridge                     9.713333\n",
              "Toluca Lake                              9.708065\n",
              "South Pasadena                           9.692754\n",
              "Playa del Rey                            9.690099\n",
              "Name: review_scores_rating, dtype: float64"
            ]
          },
          "metadata": {
            "tags": []
          },
          "execution_count": 47
        }
      ]
    },
    {
      "cell_type": "markdown",
      "metadata": {
        "colab_type": "text",
        "id": "MuerH8eJw3U7"
      },
      "source": [
        "##### Grouping neighbourhoods by location review scores averages"
      ]
    },
    {
      "cell_type": "code",
      "metadata": {
        "colab_type": "code",
        "outputId": "2fcbf707-6d32-4809-823c-a9e629b8929a",
        "id": "jPVsTHE1w3VH",
        "colab": {
          "base_uri": "https://localhost:8080/",
          "height": 34
        }
      },
      "source": [
        "avg_review_score_location_per_neighbourhoods = df_work.groupby(['neighbourhood']).review_scores_location.mean().sort_values(ascending=True)\n",
        "avg_review_score_location_per_neighbourhoods.shape"
      ],
      "execution_count": 48,
      "outputs": [
        {
          "output_type": "execute_result",
          "data": {
            "text/plain": [
              "(145,)"
            ]
          },
          "metadata": {
            "tags": []
          },
          "execution_count": 48
        }
      ]
    },
    {
      "cell_type": "code",
      "metadata": {
        "colab_type": "code",
        "outputId": "7c249ccc-b87c-4916-b9b3-da19eb3a5cf3",
        "id": "HR6CR7kVw3VX",
        "colab": {
          "base_uri": "https://localhost:8080/",
          "height": 221
        }
      },
      "source": [
        "# Neighborhoods with lower average review score\n",
        "avg_review_score_location_per_neighbourhoods[:10]"
      ],
      "execution_count": 49,
      "outputs": [
        {
          "output_type": "execute_result",
          "data": {
            "text/plain": [
              "neighbourhood\n",
              "Wilmington           8.794118\n",
              "Exposition Park      9.022989\n",
              "Vermont Square       9.137931\n",
              "East Los Angeles     9.146789\n",
              "Pico-Union           9.242718\n",
              "Lincoln Heights      9.250000\n",
              "Boyle Heights        9.256098\n",
              "Jefferson Park       9.256410\n",
              "Arlington Heights    9.262712\n",
              "Harvard Heights      9.297619\n",
              "Name: review_scores_location, dtype: float64"
            ]
          },
          "metadata": {
            "tags": []
          },
          "execution_count": 49
        }
      ]
    },
    {
      "cell_type": "code",
      "metadata": {
        "colab_type": "code",
        "outputId": "b947add6-ac60-4461-f2cc-178b48edfc91",
        "id": "FVQFLEQMw3Vn",
        "colab": {
          "base_uri": "https://localhost:8080/",
          "height": 221
        }
      },
      "source": [
        "# Neighborhoods with higher average review score\n",
        "avg_review_score_location_per_neighbourhoods[-10:].sort_values(ascending=False)"
      ],
      "execution_count": 50,
      "outputs": [
        {
          "output_type": "execute_result",
          "data": {
            "text/plain": [
              "neighbourhood\n",
              "Malibu                                   9.967290\n",
              "Toluca Lake                              9.951613\n",
              "Rancho Park                              9.950000\n",
              "Windsor Square                           9.942857\n",
              "Unincorporated Santa Monica Mountains    9.940000\n",
              "Topanga                                  9.935065\n",
              "La Canada Flintridge                     9.933333\n",
              "Silver Lake                              9.931559\n",
              "West Hollywood                           9.914234\n",
              "Hancock Park                             9.908046\n",
              "Name: review_scores_location, dtype: float64"
            ]
          },
          "metadata": {
            "tags": []
          },
          "execution_count": 50
        }
      ]
    },
    {
      "cell_type": "markdown",
      "metadata": {
        "id": "5hVQR_Lub-Tj",
        "colab_type": "text"
      },
      "source": [
        "##### Combining number of ads, prices and reviews"
      ]
    },
    {
      "cell_type": "code",
      "metadata": {
        "id": "n9CqMLpG5Z1J",
        "colab_type": "code",
        "colab": {}
      },
      "source": [
        "# Create a new datafram combining number of ads, average price and average review scores\n",
        "df_neighbourhoods = pd.concat([ads_per_neighbourhoods, mean_price_per_neighbourhood, avg_review_score_rating_per_neighbourhoods, avg_review_score_location_per_neighbourhoods ],  axis=1, sort=True)\n",
        "df_neighbourhoods.rename(columns={'neighbourhood':'number_of_ads', 'price':'average_price', 'review_scores_rating':'avg_review_rating', 'review_scores_location':'avg_location_review'}, inplace=True)\n"
      ],
      "execution_count": 0,
      "outputs": []
    },
    {
      "cell_type": "code",
      "metadata": {
        "id": "6LtjpCVeMBKe",
        "colab_type": "code",
        "outputId": "ed8c47dd-c1a1-47a5-f12a-8c9b1658e887",
        "colab": {
          "base_uri": "https://localhost:8080/",
          "height": 419
        }
      },
      "source": [
        "df_neighbourhoods"
      ],
      "execution_count": 52,
      "outputs": [
        {
          "output_type": "execute_result",
          "data": {
            "text/html": [
              "<div>\n",
              "<style scoped>\n",
              "    .dataframe tbody tr th:only-of-type {\n",
              "        vertical-align: middle;\n",
              "    }\n",
              "\n",
              "    .dataframe tbody tr th {\n",
              "        vertical-align: top;\n",
              "    }\n",
              "\n",
              "    .dataframe thead th {\n",
              "        text-align: right;\n",
              "    }\n",
              "</style>\n",
              "<table border=\"1\" class=\"dataframe\">\n",
              "  <thead>\n",
              "    <tr style=\"text-align: right;\">\n",
              "      <th></th>\n",
              "      <th>number_of_ads</th>\n",
              "      <th>average_price</th>\n",
              "      <th>avg_review_rating</th>\n",
              "      <th>avg_location_review</th>\n",
              "    </tr>\n",
              "  </thead>\n",
              "  <tbody>\n",
              "    <tr>\n",
              "      <th>Adams-Normandie</th>\n",
              "      <td>38</td>\n",
              "      <td>77.500000</td>\n",
              "      <td>9.150000</td>\n",
              "      <td>9.368421</td>\n",
              "    </tr>\n",
              "    <tr>\n",
              "      <th>Agoura Hills</th>\n",
              "      <td>33</td>\n",
              "      <td>131.333333</td>\n",
              "      <td>9.718182</td>\n",
              "      <td>9.878788</td>\n",
              "    </tr>\n",
              "    <tr>\n",
              "      <th>Alhambra</th>\n",
              "      <td>284</td>\n",
              "      <td>88.778169</td>\n",
              "      <td>9.450000</td>\n",
              "      <td>9.746479</td>\n",
              "    </tr>\n",
              "    <tr>\n",
              "      <th>Altadena</th>\n",
              "      <td>214</td>\n",
              "      <td>149.668224</td>\n",
              "      <td>9.582710</td>\n",
              "      <td>9.808411</td>\n",
              "    </tr>\n",
              "    <tr>\n",
              "      <th>Arcadia</th>\n",
              "      <td>176</td>\n",
              "      <td>126.306818</td>\n",
              "      <td>9.355114</td>\n",
              "      <td>9.778409</td>\n",
              "    </tr>\n",
              "    <tr>\n",
              "      <th>...</th>\n",
              "      <td>...</td>\n",
              "      <td>...</td>\n",
              "      <td>...</td>\n",
              "      <td>...</td>\n",
              "    </tr>\n",
              "    <tr>\n",
              "      <th>Whittier</th>\n",
              "      <td>67</td>\n",
              "      <td>117.388060</td>\n",
              "      <td>9.656716</td>\n",
              "      <td>9.850746</td>\n",
              "    </tr>\n",
              "    <tr>\n",
              "      <th>Wilmington</th>\n",
              "      <td>34</td>\n",
              "      <td>63.029412</td>\n",
              "      <td>9.411765</td>\n",
              "      <td>8.794118</td>\n",
              "    </tr>\n",
              "    <tr>\n",
              "      <th>Windsor Square</th>\n",
              "      <td>35</td>\n",
              "      <td>165.114286</td>\n",
              "      <td>9.562857</td>\n",
              "      <td>9.942857</td>\n",
              "    </tr>\n",
              "    <tr>\n",
              "      <th>Winnetka</th>\n",
              "      <td>62</td>\n",
              "      <td>95.000000</td>\n",
              "      <td>9.611290</td>\n",
              "      <td>9.532258</td>\n",
              "    </tr>\n",
              "    <tr>\n",
              "      <th>Woodland Hills</th>\n",
              "      <td>261</td>\n",
              "      <td>157.915709</td>\n",
              "      <td>9.438314</td>\n",
              "      <td>9.743295</td>\n",
              "    </tr>\n",
              "  </tbody>\n",
              "</table>\n",
              "<p>145 rows × 4 columns</p>\n",
              "</div>"
            ],
            "text/plain": [
              "                 number_of_ads  ...  avg_location_review\n",
              "Adams-Normandie             38  ...             9.368421\n",
              "Agoura Hills                33  ...             9.878788\n",
              "Alhambra                   284  ...             9.746479\n",
              "Altadena                   214  ...             9.808411\n",
              "Arcadia                    176  ...             9.778409\n",
              "...                        ...  ...                  ...\n",
              "Whittier                    67  ...             9.850746\n",
              "Wilmington                  34  ...             8.794118\n",
              "Windsor Square              35  ...             9.942857\n",
              "Winnetka                    62  ...             9.532258\n",
              "Woodland Hills             261  ...             9.743295\n",
              "\n",
              "[145 rows x 4 columns]"
            ]
          },
          "metadata": {
            "tags": []
          },
          "execution_count": 52
        }
      ]
    },
    {
      "cell_type": "markdown",
      "metadata": {
        "id": "7b6RMWpuHKN-",
        "colab_type": "text"
      },
      "source": [
        "### Neighbourhood sugestions based on price and reviews"
      ]
    },
    {
      "cell_type": "markdown",
      "metadata": {
        "id": "Qfl68-pXaTnR",
        "colab_type": "text"
      },
      "source": [
        "Because this analysis has a focus on location, data has been aggregated by neighbourhood. So I'm giving a little bit more weight for location reviews than overall review, since the later includes, besides location, scores on ad accuracy, cleanliness, checkin procedure, host communication and perceived value."
      ]
    },
    {
      "cell_type": "code",
      "metadata": {
        "id": "LAuscKKnafqJ",
        "colab_type": "code",
        "colab": {}
      },
      "source": [
        "df_neighbourhoods['weighted_avg_review'] = ((df_neighbourhoods.avg_review_rating * 0.9) + (df_neighbourhoods.avg_location_review * 1.1)) / 2"
      ],
      "execution_count": 0,
      "outputs": []
    },
    {
      "cell_type": "code",
      "metadata": {
        "id": "GJbKknv2a5_W",
        "colab_type": "code",
        "outputId": "1ffdb789-0769-4a98-fa42-efce587f7fab",
        "colab": {
          "base_uri": "https://localhost:8080/",
          "height": 419
        }
      },
      "source": [
        "df_neighbourhoods"
      ],
      "execution_count": 54,
      "outputs": [
        {
          "output_type": "execute_result",
          "data": {
            "text/html": [
              "<div>\n",
              "<style scoped>\n",
              "    .dataframe tbody tr th:only-of-type {\n",
              "        vertical-align: middle;\n",
              "    }\n",
              "\n",
              "    .dataframe tbody tr th {\n",
              "        vertical-align: top;\n",
              "    }\n",
              "\n",
              "    .dataframe thead th {\n",
              "        text-align: right;\n",
              "    }\n",
              "</style>\n",
              "<table border=\"1\" class=\"dataframe\">\n",
              "  <thead>\n",
              "    <tr style=\"text-align: right;\">\n",
              "      <th></th>\n",
              "      <th>number_of_ads</th>\n",
              "      <th>average_price</th>\n",
              "      <th>avg_review_rating</th>\n",
              "      <th>avg_location_review</th>\n",
              "      <th>weighted_avg_review</th>\n",
              "    </tr>\n",
              "  </thead>\n",
              "  <tbody>\n",
              "    <tr>\n",
              "      <th>Adams-Normandie</th>\n",
              "      <td>38</td>\n",
              "      <td>77.500000</td>\n",
              "      <td>9.150000</td>\n",
              "      <td>9.368421</td>\n",
              "      <td>9.270132</td>\n",
              "    </tr>\n",
              "    <tr>\n",
              "      <th>Agoura Hills</th>\n",
              "      <td>33</td>\n",
              "      <td>131.333333</td>\n",
              "      <td>9.718182</td>\n",
              "      <td>9.878788</td>\n",
              "      <td>9.806515</td>\n",
              "    </tr>\n",
              "    <tr>\n",
              "      <th>Alhambra</th>\n",
              "      <td>284</td>\n",
              "      <td>88.778169</td>\n",
              "      <td>9.450000</td>\n",
              "      <td>9.746479</td>\n",
              "      <td>9.613063</td>\n",
              "    </tr>\n",
              "    <tr>\n",
              "      <th>Altadena</th>\n",
              "      <td>214</td>\n",
              "      <td>149.668224</td>\n",
              "      <td>9.582710</td>\n",
              "      <td>9.808411</td>\n",
              "      <td>9.706846</td>\n",
              "    </tr>\n",
              "    <tr>\n",
              "      <th>Arcadia</th>\n",
              "      <td>176</td>\n",
              "      <td>126.306818</td>\n",
              "      <td>9.355114</td>\n",
              "      <td>9.778409</td>\n",
              "      <td>9.587926</td>\n",
              "    </tr>\n",
              "    <tr>\n",
              "      <th>...</th>\n",
              "      <td>...</td>\n",
              "      <td>...</td>\n",
              "      <td>...</td>\n",
              "      <td>...</td>\n",
              "      <td>...</td>\n",
              "    </tr>\n",
              "    <tr>\n",
              "      <th>Whittier</th>\n",
              "      <td>67</td>\n",
              "      <td>117.388060</td>\n",
              "      <td>9.656716</td>\n",
              "      <td>9.850746</td>\n",
              "      <td>9.763433</td>\n",
              "    </tr>\n",
              "    <tr>\n",
              "      <th>Wilmington</th>\n",
              "      <td>34</td>\n",
              "      <td>63.029412</td>\n",
              "      <td>9.411765</td>\n",
              "      <td>8.794118</td>\n",
              "      <td>9.072059</td>\n",
              "    </tr>\n",
              "    <tr>\n",
              "      <th>Windsor Square</th>\n",
              "      <td>35</td>\n",
              "      <td>165.114286</td>\n",
              "      <td>9.562857</td>\n",
              "      <td>9.942857</td>\n",
              "      <td>9.771857</td>\n",
              "    </tr>\n",
              "    <tr>\n",
              "      <th>Winnetka</th>\n",
              "      <td>62</td>\n",
              "      <td>95.000000</td>\n",
              "      <td>9.611290</td>\n",
              "      <td>9.532258</td>\n",
              "      <td>9.567823</td>\n",
              "    </tr>\n",
              "    <tr>\n",
              "      <th>Woodland Hills</th>\n",
              "      <td>261</td>\n",
              "      <td>157.915709</td>\n",
              "      <td>9.438314</td>\n",
              "      <td>9.743295</td>\n",
              "      <td>9.606054</td>\n",
              "    </tr>\n",
              "  </tbody>\n",
              "</table>\n",
              "<p>145 rows × 5 columns</p>\n",
              "</div>"
            ],
            "text/plain": [
              "                 number_of_ads  ...  weighted_avg_review\n",
              "Adams-Normandie             38  ...             9.270132\n",
              "Agoura Hills                33  ...             9.806515\n",
              "Alhambra                   284  ...             9.613063\n",
              "Altadena                   214  ...             9.706846\n",
              "Arcadia                    176  ...             9.587926\n",
              "...                        ...  ...                  ...\n",
              "Whittier                    67  ...             9.763433\n",
              "Wilmington                  34  ...             9.072059\n",
              "Windsor Square              35  ...             9.771857\n",
              "Winnetka                    62  ...             9.567823\n",
              "Woodland Hills             261  ...             9.606054\n",
              "\n",
              "[145 rows x 5 columns]"
            ]
          },
          "metadata": {
            "tags": []
          },
          "execution_count": 54
        }
      ]
    },
    {
      "cell_type": "code",
      "metadata": {
        "id": "xMfEdjWfcLt8",
        "colab_type": "code",
        "outputId": "364b6e2f-9f89-478a-f4b0-fd9053d06950",
        "colab": {
          "base_uri": "https://localhost:8080/",
          "height": 297
        }
      },
      "source": [
        "df_neighbourhoods.describe()"
      ],
      "execution_count": 55,
      "outputs": [
        {
          "output_type": "execute_result",
          "data": {
            "text/html": [
              "<div>\n",
              "<style scoped>\n",
              "    .dataframe tbody tr th:only-of-type {\n",
              "        vertical-align: middle;\n",
              "    }\n",
              "\n",
              "    .dataframe tbody tr th {\n",
              "        vertical-align: top;\n",
              "    }\n",
              "\n",
              "    .dataframe thead th {\n",
              "        text-align: right;\n",
              "    }\n",
              "</style>\n",
              "<table border=\"1\" class=\"dataframe\">\n",
              "  <thead>\n",
              "    <tr style=\"text-align: right;\">\n",
              "      <th></th>\n",
              "      <th>number_of_ads</th>\n",
              "      <th>average_price</th>\n",
              "      <th>avg_review_rating</th>\n",
              "      <th>avg_location_review</th>\n",
              "      <th>weighted_avg_review</th>\n",
              "    </tr>\n",
              "  </thead>\n",
              "  <tbody>\n",
              "    <tr>\n",
              "      <th>count</th>\n",
              "      <td>145.000000</td>\n",
              "      <td>145.000000</td>\n",
              "      <td>145.000000</td>\n",
              "      <td>145.000000</td>\n",
              "      <td>145.000000</td>\n",
              "    </tr>\n",
              "    <tr>\n",
              "      <th>mean</th>\n",
              "      <td>197.606897</td>\n",
              "      <td>136.546363</td>\n",
              "      <td>9.476003</td>\n",
              "      <td>9.685736</td>\n",
              "      <td>9.591356</td>\n",
              "    </tr>\n",
              "    <tr>\n",
              "      <th>std</th>\n",
              "      <td>262.069258</td>\n",
              "      <td>61.096277</td>\n",
              "      <td>0.172522</td>\n",
              "      <td>0.214663</td>\n",
              "      <td>0.174383</td>\n",
              "    </tr>\n",
              "    <tr>\n",
              "      <th>min</th>\n",
              "      <td>30.000000</td>\n",
              "      <td>53.483516</td>\n",
              "      <td>8.791954</td>\n",
              "      <td>8.794118</td>\n",
              "      <td>8.919023</td>\n",
              "    </tr>\n",
              "    <tr>\n",
              "      <th>25%</th>\n",
              "      <td>62.000000</td>\n",
              "      <td>97.818841</td>\n",
              "      <td>9.361074</td>\n",
              "      <td>9.548035</td>\n",
              "      <td>9.501059</td>\n",
              "    </tr>\n",
              "    <tr>\n",
              "      <th>50%</th>\n",
              "      <td>101.000000</td>\n",
              "      <td>120.750000</td>\n",
              "      <td>9.512154</td>\n",
              "      <td>9.746479</td>\n",
              "      <td>9.626913</td>\n",
              "    </tr>\n",
              "    <tr>\n",
              "      <th>75%</th>\n",
              "      <td>237.000000</td>\n",
              "      <td>157.915709</td>\n",
              "      <td>9.605769</td>\n",
              "      <td>9.857143</td>\n",
              "      <td>9.721564</td>\n",
              "    </tr>\n",
              "    <tr>\n",
              "      <th>max</th>\n",
              "      <td>1662.000000</td>\n",
              "      <td>439.467290</td>\n",
              "      <td>9.812000</td>\n",
              "      <td>9.967290</td>\n",
              "      <td>9.882400</td>\n",
              "    </tr>\n",
              "  </tbody>\n",
              "</table>\n",
              "</div>"
            ],
            "text/plain": [
              "       number_of_ads  average_price  ...  avg_location_review  weighted_avg_review\n",
              "count     145.000000     145.000000  ...           145.000000           145.000000\n",
              "mean      197.606897     136.546363  ...             9.685736             9.591356\n",
              "std       262.069258      61.096277  ...             0.214663             0.174383\n",
              "min        30.000000      53.483516  ...             8.794118             8.919023\n",
              "25%        62.000000      97.818841  ...             9.548035             9.501059\n",
              "50%       101.000000     120.750000  ...             9.746479             9.626913\n",
              "75%       237.000000     157.915709  ...             9.857143             9.721564\n",
              "max      1662.000000     439.467290  ...             9.967290             9.882400\n",
              "\n",
              "[8 rows x 5 columns]"
            ]
          },
          "metadata": {
            "tags": []
          },
          "execution_count": 55
        }
      ]
    },
    {
      "cell_type": "code",
      "metadata": {
        "colab_type": "code",
        "outputId": "74f7cdf3-4743-47d6-dd70-6df05edf199d",
        "id": "HYSsrkWvgYvB",
        "colab": {
          "base_uri": "https://localhost:8080/",
          "height": 211
        }
      },
      "source": [
        "# Visual representation with boxplot\n",
        "df_neighbourhoods.average_price.plot(kind='box', vert=False, figsize=(20, 3))\n",
        "plt.show()"
      ],
      "execution_count": 56,
      "outputs": [
        {
          "output_type": "display_data",
          "data": {
            "image/png": "[encoded data removed]",
            "text/plain": [
              "<Figure size 1440x216 with 1 Axes>"
            ]
          },
          "metadata": {
            "tags": []
          }
        }
      ]
    },
    {
      "cell_type": "code",
      "metadata": {
        "id": "Ar1HERe2fMek",
        "colab_type": "code",
        "colab": {}
      },
      "source": [
        "# Function to show best reviewed neighbourhoods based on a price range\n",
        "def get_neighbourhoods(from_price=0, to_price=price_upper_limit, descending=True):\n",
        "  print ('Best reviewed neighbourhoods from ${} to ${}'.format(from_price, to_price))\n",
        "  ascending = False if descending else True\n",
        "  return df_neighbourhoods.loc[df_neighbourhoods.weighted_avg_review[(df_neighbourhoods.average_price > from_price) & (df_neighbourhoods.average_price <= to_price)].sort_values(ascending=ascending).index][:10]"
      ],
      "execution_count": 0,
      "outputs": []
    },
    {
      "cell_type": "markdown",
      "metadata": {
        "id": "IXn2oIo5qx-w",
        "colab_type": "text"
      },
      "source": [
        "### Are there correlation between price and reviews?"
      ]
    },
    {
      "cell_type": "code",
      "metadata": {
        "id": "x2ayzBajqxyd",
        "colab_type": "code",
        "outputId": "dcb73584-e54d-40ea-e4fd-3576255b0d1e",
        "colab": {
          "base_uri": "https://localhost:8080/",
          "height": 142
        }
      },
      "source": [
        "# create a correlation matrix between price and reviews\n",
        "corr = df_work[['price', 'review_scores_rating', 'review_scores_location']].corr(method='spearman')\n",
        "corr"
      ],
      "execution_count": 58,
      "outputs": [
        {
          "output_type": "execute_result",
          "data": {
            "text/html": [
              "<div>\n",
              "<style scoped>\n",
              "    .dataframe tbody tr th:only-of-type {\n",
              "        vertical-align: middle;\n",
              "    }\n",
              "\n",
              "    .dataframe tbody tr th {\n",
              "        vertical-align: top;\n",
              "    }\n",
              "\n",
              "    .dataframe thead th {\n",
              "        text-align: right;\n",
              "    }\n",
              "</style>\n",
              "<table border=\"1\" class=\"dataframe\">\n",
              "  <thead>\n",
              "    <tr style=\"text-align: right;\">\n",
              "      <th></th>\n",
              "      <th>price</th>\n",
              "      <th>review_scores_rating</th>\n",
              "      <th>review_scores_location</th>\n",
              "    </tr>\n",
              "  </thead>\n",
              "  <tbody>\n",
              "    <tr>\n",
              "      <th>price</th>\n",
              "      <td>1.000000</td>\n",
              "      <td>0.075525</td>\n",
              "      <td>0.135719</td>\n",
              "    </tr>\n",
              "    <tr>\n",
              "      <th>review_scores_rating</th>\n",
              "      <td>0.075525</td>\n",
              "      <td>1.000000</td>\n",
              "      <td>0.406376</td>\n",
              "    </tr>\n",
              "    <tr>\n",
              "      <th>review_scores_location</th>\n",
              "      <td>0.135719</td>\n",
              "      <td>0.406376</td>\n",
              "      <td>1.000000</td>\n",
              "    </tr>\n",
              "  </tbody>\n",
              "</table>\n",
              "</div>"
            ],
            "text/plain": [
              "                           price  review_scores_rating  review_scores_location\n",
              "price                   1.000000              0.075525                0.135719\n",
              "review_scores_rating    0.075525              1.000000                0.406376\n",
              "review_scores_location  0.135719              0.406376                1.000000"
            ]
          },
          "metadata": {
            "tags": []
          },
          "execution_count": 58
        }
      ]
    },
    {
      "cell_type": "code",
      "metadata": {
        "id": "TzLUv4b9LqRN",
        "colab_type": "code",
        "outputId": "a1086701-6493-4de7-c783-88cbfdd1156e",
        "colab": {
          "base_uri": "https://localhost:8080/",
          "height": 374
        }
      },
      "source": [
        "sns.heatmap(corr, cmap='coolwarm', fmt='.2f', linecolor='white', annot=True);"
      ],
      "execution_count": 59,
      "outputs": [
        {
          "output_type": "display_data",
          "data": {
            "image/png": "[encoded data removed]",
            "text/plain": [
              "<Figure size 432x288 with 2 Axes>"
            ]
          },
          "metadata": {
            "tags": []
          }
        }
      ]
    },
    {
      "cell_type": "markdown",
      "metadata": {
        "id": "CgGlOVGda_sn",
        "colab_type": "text"
      },
      "source": [
        "There's no correlation between price and reviews"
      ]
    },
    {
      "cell_type": "markdown",
      "metadata": {
        "id": "GkvAg623RjoR",
        "colab_type": "text"
      },
      "source": [
        "## Findings\n"
      ]
    },
    {
      "cell_type": "markdown",
      "metadata": {
        "id": "m12IFWajrFt8",
        "colab_type": "text"
      },
      "source": [
        "### Average price"
      ]
    },
    {
      "cell_type": "code",
      "metadata": {
        "id": "MawPrelFrYCb",
        "colab_type": "code",
        "outputId": "d32406b5-d305-41ba-e812-ae8875c8c243",
        "colab": {
          "base_uri": "https://localhost:8080/",
          "height": 34
        }
      },
      "source": [
        "print(\"For the range between ${:.0f} and ${:.0f}, the average price is ${:.2f}\".format(df_work.price.min(), df_work.price.max(), df_work.price.mean()))"
      ],
      "execution_count": 60,
      "outputs": [
        {
          "output_type": "stream",
          "text": [
            "For the range between $25 and $1000, the average price is $150.88\n"
          ],
          "name": "stdout"
        }
      ]
    },
    {
      "cell_type": "markdown",
      "metadata": {
        "id": "rbZ3Hsy9Ypw8",
        "colab_type": "text"
      },
      "source": [
        "### Top five neighbourhoods by number of ads"
      ]
    },
    {
      "cell_type": "code",
      "metadata": {
        "id": "YpWs2nNxpMfw",
        "colab_type": "code",
        "colab": {}
      },
      "source": [
        "df_neighbourhoods.sort_values(by=['number_of_ads'], ascending=False).head(5)"
      ],
      "execution_count": 0,
      "outputs": []
    },
    {
      "cell_type": "markdown",
      "metadata": {
        "id": "EP9HWYDrboV_",
        "colab_type": "text"
      },
      "source": [
        "### Best reviewed neighbourhoods based on price range"
      ]
    },
    {
      "cell_type": "markdown",
      "metadata": {
        "id": "vR-oCs_XapnK",
        "colab_type": "text"
      },
      "source": [
        "I'm chooging the price ranges based on neighbourhoods average price quartiles (see boxplot)"
      ]
    },
    {
      "cell_type": "code",
      "metadata": {
        "id": "fPE60Y8fgani",
        "colab_type": "code",
        "outputId": "3541f36b-1e08-4de8-dac1-6e34b1336a13",
        "colab": {
          "base_uri": "https://localhost:8080/",
          "height": 376
        }
      },
      "source": [
        "# Best reviewed neighbourhood up to $100\n",
        "get_neighbourhoods(to_price=100)"
      ],
      "execution_count": 61,
      "outputs": [
        {
          "output_type": "stream",
          "text": [
            "Best reviewed neighbourhoods from $0 to $100\n"
          ],
          "name": "stdout"
        },
        {
          "output_type": "execute_result",
          "data": {
            "text/html": [
              "<div>\n",
              "<style scoped>\n",
              "    .dataframe tbody tr th:only-of-type {\n",
              "        vertical-align: middle;\n",
              "    }\n",
              "\n",
              "    .dataframe tbody tr th {\n",
              "        vertical-align: top;\n",
              "    }\n",
              "\n",
              "    .dataframe thead th {\n",
              "        text-align: right;\n",
              "    }\n",
              "</style>\n",
              "<table border=\"1\" class=\"dataframe\">\n",
              "  <thead>\n",
              "    <tr style=\"text-align: right;\">\n",
              "      <th></th>\n",
              "      <th>number_of_ads</th>\n",
              "      <th>average_price</th>\n",
              "      <th>avg_review_rating</th>\n",
              "      <th>avg_location_review</th>\n",
              "      <th>weighted_avg_review</th>\n",
              "    </tr>\n",
              "  </thead>\n",
              "  <tbody>\n",
              "    <tr>\n",
              "      <th>Covina</th>\n",
              "      <td>40</td>\n",
              "      <td>78.200000</td>\n",
              "      <td>9.575000</td>\n",
              "      <td>9.875000</td>\n",
              "      <td>9.740000</td>\n",
              "    </tr>\n",
              "    <tr>\n",
              "      <th>Downey</th>\n",
              "      <td>65</td>\n",
              "      <td>77.723077</td>\n",
              "      <td>9.606154</td>\n",
              "      <td>9.784615</td>\n",
              "      <td>9.704308</td>\n",
              "    </tr>\n",
              "    <tr>\n",
              "      <th>East San Gabriel</th>\n",
              "      <td>77</td>\n",
              "      <td>85.376623</td>\n",
              "      <td>9.541558</td>\n",
              "      <td>9.831169</td>\n",
              "      <td>9.700844</td>\n",
              "    </tr>\n",
              "    <tr>\n",
              "      <th>La Verne</th>\n",
              "      <td>42</td>\n",
              "      <td>70.500000</td>\n",
              "      <td>9.454762</td>\n",
              "      <td>9.880952</td>\n",
              "      <td>9.689167</td>\n",
              "    </tr>\n",
              "    <tr>\n",
              "      <th>Lancaster</th>\n",
              "      <td>91</td>\n",
              "      <td>53.483516</td>\n",
              "      <td>9.550549</td>\n",
              "      <td>9.758242</td>\n",
              "      <td>9.664780</td>\n",
              "    </tr>\n",
              "    <tr>\n",
              "      <th>West Covina</th>\n",
              "      <td>98</td>\n",
              "      <td>85.897959</td>\n",
              "      <td>9.536735</td>\n",
              "      <td>9.744898</td>\n",
              "      <td>9.651224</td>\n",
              "    </tr>\n",
              "    <tr>\n",
              "      <th>Carson</th>\n",
              "      <td>65</td>\n",
              "      <td>72.676923</td>\n",
              "      <td>9.653846</td>\n",
              "      <td>9.630769</td>\n",
              "      <td>9.641154</td>\n",
              "    </tr>\n",
              "    <tr>\n",
              "      <th>Alhambra</th>\n",
              "      <td>284</td>\n",
              "      <td>88.778169</td>\n",
              "      <td>9.450000</td>\n",
              "      <td>9.746479</td>\n",
              "      <td>9.613063</td>\n",
              "    </tr>\n",
              "    <tr>\n",
              "      <th>El Sereno</th>\n",
              "      <td>64</td>\n",
              "      <td>98.140625</td>\n",
              "      <td>9.678125</td>\n",
              "      <td>9.546875</td>\n",
              "      <td>9.605938</td>\n",
              "    </tr>\n",
              "    <tr>\n",
              "      <th>Pico Rivera</th>\n",
              "      <td>38</td>\n",
              "      <td>69.315789</td>\n",
              "      <td>9.626316</td>\n",
              "      <td>9.578947</td>\n",
              "      <td>9.600263</td>\n",
              "    </tr>\n",
              "  </tbody>\n",
              "</table>\n",
              "</div>"
            ],
            "text/plain": [
              "                  number_of_ads  ...  weighted_avg_review\n",
              "Covina                       40  ...             9.740000\n",
              "Downey                       65  ...             9.704308\n",
              "East San Gabriel             77  ...             9.700844\n",
              "La Verne                     42  ...             9.689167\n",
              "Lancaster                    91  ...             9.664780\n",
              "West Covina                  98  ...             9.651224\n",
              "Carson                       65  ...             9.641154\n",
              "Alhambra                    284  ...             9.613063\n",
              "El Sereno                    64  ...             9.605938\n",
              "Pico Rivera                  38  ...             9.600263\n",
              "\n",
              "[10 rows x 5 columns]"
            ]
          },
          "metadata": {
            "tags": []
          },
          "execution_count": 61
        }
      ]
    },
    {
      "cell_type": "code",
      "metadata": {
        "id": "UEkU0DBUkhD1",
        "colab_type": "code",
        "outputId": "f7362b28-50ce-48b8-f8d7-9f02b542cbe7",
        "colab": {
          "base_uri": "https://localhost:8080/",
          "height": 376
        }
      },
      "source": [
        "# Best reviewed neighbourhood between $100 and $120\n",
        "get_neighbourhoods(from_price=100, to_price=120)"
      ],
      "execution_count": 62,
      "outputs": [
        {
          "output_type": "stream",
          "text": [
            "Best reviewed neighbourhoods from $100 to $120\n"
          ],
          "name": "stdout"
        },
        {
          "output_type": "execute_result",
          "data": {
            "text/html": [
              "<div>\n",
              "<style scoped>\n",
              "    .dataframe tbody tr th:only-of-type {\n",
              "        vertical-align: middle;\n",
              "    }\n",
              "\n",
              "    .dataframe tbody tr th {\n",
              "        vertical-align: top;\n",
              "    }\n",
              "\n",
              "    .dataframe thead th {\n",
              "        text-align: right;\n",
              "    }\n",
              "</style>\n",
              "<table border=\"1\" class=\"dataframe\">\n",
              "  <thead>\n",
              "    <tr style=\"text-align: right;\">\n",
              "      <th></th>\n",
              "      <th>number_of_ads</th>\n",
              "      <th>average_price</th>\n",
              "      <th>avg_review_rating</th>\n",
              "      <th>avg_location_review</th>\n",
              "      <th>weighted_avg_review</th>\n",
              "    </tr>\n",
              "  </thead>\n",
              "  <tbody>\n",
              "    <tr>\n",
              "      <th>Mount Washington</th>\n",
              "      <td>110</td>\n",
              "      <td>118.300000</td>\n",
              "      <td>9.730000</td>\n",
              "      <td>9.863636</td>\n",
              "      <td>9.803500</td>\n",
              "    </tr>\n",
              "    <tr>\n",
              "      <th>Del Aire</th>\n",
              "      <td>53</td>\n",
              "      <td>108.056604</td>\n",
              "      <td>9.666038</td>\n",
              "      <td>9.886792</td>\n",
              "      <td>9.787453</td>\n",
              "    </tr>\n",
              "    <tr>\n",
              "      <th>Whittier</th>\n",
              "      <td>67</td>\n",
              "      <td>117.388060</td>\n",
              "      <td>9.656716</td>\n",
              "      <td>9.850746</td>\n",
              "      <td>9.763433</td>\n",
              "    </tr>\n",
              "    <tr>\n",
              "      <th>Santa Clarita</th>\n",
              "      <td>119</td>\n",
              "      <td>115.184874</td>\n",
              "      <td>9.625210</td>\n",
              "      <td>9.865546</td>\n",
              "      <td>9.757395</td>\n",
              "    </tr>\n",
              "    <tr>\n",
              "      <th>Glassell Park</th>\n",
              "      <td>76</td>\n",
              "      <td>106.144737</td>\n",
              "      <td>9.689474</td>\n",
              "      <td>9.789474</td>\n",
              "      <td>9.744474</td>\n",
              "    </tr>\n",
              "    <tr>\n",
              "      <th>Chatsworth</th>\n",
              "      <td>37</td>\n",
              "      <td>116.162162</td>\n",
              "      <td>9.637838</td>\n",
              "      <td>9.810811</td>\n",
              "      <td>9.732973</td>\n",
              "    </tr>\n",
              "    <tr>\n",
              "      <th>Burbank</th>\n",
              "      <td>341</td>\n",
              "      <td>117.533724</td>\n",
              "      <td>9.568622</td>\n",
              "      <td>9.844575</td>\n",
              "      <td>9.720396</td>\n",
              "    </tr>\n",
              "    <tr>\n",
              "      <th>Azusa</th>\n",
              "      <td>59</td>\n",
              "      <td>115.033898</td>\n",
              "      <td>9.655932</td>\n",
              "      <td>9.762712</td>\n",
              "      <td>9.714661</td>\n",
              "    </tr>\n",
              "    <tr>\n",
              "      <th>Montecito Heights</th>\n",
              "      <td>62</td>\n",
              "      <td>115.225806</td>\n",
              "      <td>9.733871</td>\n",
              "      <td>9.693548</td>\n",
              "      <td>9.711694</td>\n",
              "    </tr>\n",
              "    <tr>\n",
              "      <th>Highland Park</th>\n",
              "      <td>196</td>\n",
              "      <td>106.673469</td>\n",
              "      <td>9.636224</td>\n",
              "      <td>9.755102</td>\n",
              "      <td>9.701607</td>\n",
              "    </tr>\n",
              "  </tbody>\n",
              "</table>\n",
              "</div>"
            ],
            "text/plain": [
              "                   number_of_ads  ...  weighted_avg_review\n",
              "Mount Washington             110  ...             9.803500\n",
              "Del Aire                      53  ...             9.787453\n",
              "Whittier                      67  ...             9.763433\n",
              "Santa Clarita                119  ...             9.757395\n",
              "Glassell Park                 76  ...             9.744474\n",
              "Chatsworth                    37  ...             9.732973\n",
              "Burbank                      341  ...             9.720396\n",
              "Azusa                         59  ...             9.714661\n",
              "Montecito Heights             62  ...             9.711694\n",
              "Highland Park                196  ...             9.701607\n",
              "\n",
              "[10 rows x 5 columns]"
            ]
          },
          "metadata": {
            "tags": []
          },
          "execution_count": 62
        }
      ]
    },
    {
      "cell_type": "code",
      "metadata": {
        "id": "Fq1gnZc0jcbd",
        "colab_type": "code",
        "outputId": "6e33452b-604f-4a6d-a5ac-9bac6a54a3b8",
        "colab": {
          "base_uri": "https://localhost:8080/",
          "height": 376
        }
      },
      "source": [
        "# Best reviewed neighbourhood between $120 and $160\n",
        "get_neighbourhoods(from_price=120, to_price=160)"
      ],
      "execution_count": 63,
      "outputs": [
        {
          "output_type": "stream",
          "text": [
            "Best reviewed neighbourhoods from $120 to $160\n"
          ],
          "name": "stdout"
        },
        {
          "output_type": "execute_result",
          "data": {
            "text/html": [
              "<div>\n",
              "<style scoped>\n",
              "    .dataframe tbody tr th:only-of-type {\n",
              "        vertical-align: middle;\n",
              "    }\n",
              "\n",
              "    .dataframe tbody tr th {\n",
              "        vertical-align: top;\n",
              "    }\n",
              "\n",
              "    .dataframe thead th {\n",
              "        text-align: right;\n",
              "    }\n",
              "</style>\n",
              "<table border=\"1\" class=\"dataframe\">\n",
              "  <thead>\n",
              "    <tr style=\"text-align: right;\">\n",
              "      <th></th>\n",
              "      <th>number_of_ads</th>\n",
              "      <th>average_price</th>\n",
              "      <th>avg_review_rating</th>\n",
              "      <th>avg_location_review</th>\n",
              "      <th>weighted_avg_review</th>\n",
              "    </tr>\n",
              "  </thead>\n",
              "  <tbody>\n",
              "    <tr>\n",
              "      <th>Signal Hill</th>\n",
              "      <td>34</td>\n",
              "      <td>126.441176</td>\n",
              "      <td>9.791176</td>\n",
              "      <td>9.882353</td>\n",
              "      <td>9.841324</td>\n",
              "    </tr>\n",
              "    <tr>\n",
              "      <th>Silver Lake</th>\n",
              "      <td>526</td>\n",
              "      <td>149.304183</td>\n",
              "      <td>9.677186</td>\n",
              "      <td>9.931559</td>\n",
              "      <td>9.817091</td>\n",
              "    </tr>\n",
              "    <tr>\n",
              "      <th>Agoura Hills</th>\n",
              "      <td>33</td>\n",
              "      <td>131.333333</td>\n",
              "      <td>9.718182</td>\n",
              "      <td>9.878788</td>\n",
              "      <td>9.806515</td>\n",
              "    </tr>\n",
              "    <tr>\n",
              "      <th>Rancho Park</th>\n",
              "      <td>40</td>\n",
              "      <td>134.250000</td>\n",
              "      <td>9.617500</td>\n",
              "      <td>9.950000</td>\n",
              "      <td>9.800375</td>\n",
              "    </tr>\n",
              "    <tr>\n",
              "      <th>Pasadena</th>\n",
              "      <td>449</td>\n",
              "      <td>136.590200</td>\n",
              "      <td>9.666592</td>\n",
              "      <td>9.875278</td>\n",
              "      <td>9.781370</td>\n",
              "    </tr>\n",
              "    <tr>\n",
              "      <th>Calabasas</th>\n",
              "      <td>49</td>\n",
              "      <td>136.693878</td>\n",
              "      <td>9.618367</td>\n",
              "      <td>9.897959</td>\n",
              "      <td>9.772143</td>\n",
              "    </tr>\n",
              "    <tr>\n",
              "      <th>Eagle Rock</th>\n",
              "      <td>140</td>\n",
              "      <td>132.157143</td>\n",
              "      <td>9.634286</td>\n",
              "      <td>9.857143</td>\n",
              "      <td>9.756857</td>\n",
              "    </tr>\n",
              "    <tr>\n",
              "      <th>Echo Park</th>\n",
              "      <td>413</td>\n",
              "      <td>126.740920</td>\n",
              "      <td>9.637530</td>\n",
              "      <td>9.849879</td>\n",
              "      <td>9.754322</td>\n",
              "    </tr>\n",
              "    <tr>\n",
              "      <th>Valley Village</th>\n",
              "      <td>107</td>\n",
              "      <td>141.233645</td>\n",
              "      <td>9.667290</td>\n",
              "      <td>9.813084</td>\n",
              "      <td>9.747477</td>\n",
              "    </tr>\n",
              "    <tr>\n",
              "      <th>West Hollywood</th>\n",
              "      <td>548</td>\n",
              "      <td>159.076642</td>\n",
              "      <td>9.541606</td>\n",
              "      <td>9.914234</td>\n",
              "      <td>9.746551</td>\n",
              "    </tr>\n",
              "  </tbody>\n",
              "</table>\n",
              "</div>"
            ],
            "text/plain": [
              "                number_of_ads  ...  weighted_avg_review\n",
              "Signal Hill                34  ...             9.841324\n",
              "Silver Lake               526  ...             9.817091\n",
              "Agoura Hills               33  ...             9.806515\n",
              "Rancho Park                40  ...             9.800375\n",
              "Pasadena                  449  ...             9.781370\n",
              "Calabasas                  49  ...             9.772143\n",
              "Eagle Rock                140  ...             9.756857\n",
              "Echo Park                 413  ...             9.754322\n",
              "Valley Village            107  ...             9.747477\n",
              "West Hollywood            548  ...             9.746551\n",
              "\n",
              "[10 rows x 5 columns]"
            ]
          },
          "metadata": {
            "tags": []
          },
          "execution_count": 63
        }
      ]
    },
    {
      "cell_type": "code",
      "metadata": {
        "id": "GQMvzK19gA9Y",
        "colab_type": "code",
        "outputId": "cde78f06-25e1-43c1-de88-7e2facfc95ce",
        "colab": {
          "base_uri": "https://localhost:8080/",
          "height": 376
        }
      },
      "source": [
        "# Best reviewed neighbourhood between $160 and $250\n",
        "get_neighbourhoods(from_price=160, to_price=250)"
      ],
      "execution_count": 64,
      "outputs": [
        {
          "output_type": "stream",
          "text": [
            "Best reviewed neighbourhoods from $160 to $250\n"
          ],
          "name": "stdout"
        },
        {
          "output_type": "execute_result",
          "data": {
            "text/html": [
              "<div>\n",
              "<style scoped>\n",
              "    .dataframe tbody tr th:only-of-type {\n",
              "        vertical-align: middle;\n",
              "    }\n",
              "\n",
              "    .dataframe tbody tr th {\n",
              "        vertical-align: top;\n",
              "    }\n",
              "\n",
              "    .dataframe thead th {\n",
              "        text-align: right;\n",
              "    }\n",
              "</style>\n",
              "<table border=\"1\" class=\"dataframe\">\n",
              "  <thead>\n",
              "    <tr style=\"text-align: right;\">\n",
              "      <th></th>\n",
              "      <th>number_of_ads</th>\n",
              "      <th>average_price</th>\n",
              "      <th>avg_review_rating</th>\n",
              "      <th>avg_location_review</th>\n",
              "      <th>weighted_avg_review</th>\n",
              "    </tr>\n",
              "  </thead>\n",
              "  <tbody>\n",
              "    <tr>\n",
              "      <th>Topanga</th>\n",
              "      <td>231</td>\n",
              "      <td>217.502165</td>\n",
              "      <td>9.766667</td>\n",
              "      <td>9.935065</td>\n",
              "      <td>9.859286</td>\n",
              "    </tr>\n",
              "    <tr>\n",
              "      <th>Toluca Lake</th>\n",
              "      <td>62</td>\n",
              "      <td>165.000000</td>\n",
              "      <td>9.708065</td>\n",
              "      <td>9.951613</td>\n",
              "      <td>9.842016</td>\n",
              "    </tr>\n",
              "    <tr>\n",
              "      <th>La Canada Flintridge</th>\n",
              "      <td>30</td>\n",
              "      <td>197.566667</td>\n",
              "      <td>9.713333</td>\n",
              "      <td>9.933333</td>\n",
              "      <td>9.834333</td>\n",
              "    </tr>\n",
              "    <tr>\n",
              "      <th>Playa del Rey</th>\n",
              "      <td>101</td>\n",
              "      <td>202.445545</td>\n",
              "      <td>9.690099</td>\n",
              "      <td>9.871287</td>\n",
              "      <td>9.789752</td>\n",
              "    </tr>\n",
              "    <tr>\n",
              "      <th>South Pasadena</th>\n",
              "      <td>69</td>\n",
              "      <td>178.507246</td>\n",
              "      <td>9.692754</td>\n",
              "      <td>9.840580</td>\n",
              "      <td>9.774058</td>\n",
              "    </tr>\n",
              "    <tr>\n",
              "      <th>Windsor Square</th>\n",
              "      <td>35</td>\n",
              "      <td>165.114286</td>\n",
              "      <td>9.562857</td>\n",
              "      <td>9.942857</td>\n",
              "      <td>9.771857</td>\n",
              "    </tr>\n",
              "    <tr>\n",
              "      <th>Studio City</th>\n",
              "      <td>312</td>\n",
              "      <td>198.256410</td>\n",
              "      <td>9.623718</td>\n",
              "      <td>9.881410</td>\n",
              "      <td>9.765449</td>\n",
              "    </tr>\n",
              "    <tr>\n",
              "      <th>Redondo Beach</th>\n",
              "      <td>301</td>\n",
              "      <td>160.830565</td>\n",
              "      <td>9.624917</td>\n",
              "      <td>9.857143</td>\n",
              "      <td>9.752641</td>\n",
              "    </tr>\n",
              "    <tr>\n",
              "      <th>Ladera Heights</th>\n",
              "      <td>52</td>\n",
              "      <td>193.788462</td>\n",
              "      <td>9.605769</td>\n",
              "      <td>9.865385</td>\n",
              "      <td>9.748558</td>\n",
              "    </tr>\n",
              "    <tr>\n",
              "      <th>Hermosa Beach</th>\n",
              "      <td>129</td>\n",
              "      <td>217.875969</td>\n",
              "      <td>9.555039</td>\n",
              "      <td>9.875969</td>\n",
              "      <td>9.731550</td>\n",
              "    </tr>\n",
              "  </tbody>\n",
              "</table>\n",
              "</div>"
            ],
            "text/plain": [
              "                      number_of_ads  ...  weighted_avg_review\n",
              "Topanga                         231  ...             9.859286\n",
              "Toluca Lake                      62  ...             9.842016\n",
              "La Canada Flintridge             30  ...             9.834333\n",
              "Playa del Rey                   101  ...             9.789752\n",
              "South Pasadena                   69  ...             9.774058\n",
              "Windsor Square                   35  ...             9.771857\n",
              "Studio City                     312  ...             9.765449\n",
              "Redondo Beach                   301  ...             9.752641\n",
              "Ladera Heights                   52  ...             9.748558\n",
              "Hermosa Beach                   129  ...             9.731550\n",
              "\n",
              "[10 rows x 5 columns]"
            ]
          },
          "metadata": {
            "tags": []
          },
          "execution_count": 64
        }
      ]
    },
    {
      "cell_type": "code",
      "metadata": {
        "id": "9vH6pEkjeWZL",
        "colab_type": "code",
        "outputId": "f771f6ad-bebe-410a-cd77-56acc3bad6bb",
        "colab": {
          "base_uri": "https://localhost:8080/",
          "height": 283
        }
      },
      "source": [
        "# Best reviewed neighbourhood starting on $250\n",
        "get_neighbourhoods(from_price=250)"
      ],
      "execution_count": 65,
      "outputs": [
        {
          "output_type": "stream",
          "text": [
            "Best reviewed neighbourhoods from $250 to $1000\n"
          ],
          "name": "stdout"
        },
        {
          "output_type": "execute_result",
          "data": {
            "text/html": [
              "<div>\n",
              "<style scoped>\n",
              "    .dataframe tbody tr th:only-of-type {\n",
              "        vertical-align: middle;\n",
              "    }\n",
              "\n",
              "    .dataframe tbody tr th {\n",
              "        vertical-align: top;\n",
              "    }\n",
              "\n",
              "    .dataframe thead th {\n",
              "        text-align: right;\n",
              "    }\n",
              "</style>\n",
              "<table border=\"1\" class=\"dataframe\">\n",
              "  <thead>\n",
              "    <tr style=\"text-align: right;\">\n",
              "      <th></th>\n",
              "      <th>number_of_ads</th>\n",
              "      <th>average_price</th>\n",
              "      <th>avg_review_rating</th>\n",
              "      <th>avg_location_review</th>\n",
              "      <th>weighted_avg_review</th>\n",
              "    </tr>\n",
              "  </thead>\n",
              "  <tbody>\n",
              "    <tr>\n",
              "      <th>Unincorporated Santa Monica Mountains</th>\n",
              "      <td>100</td>\n",
              "      <td>311.320000</td>\n",
              "      <td>9.812000</td>\n",
              "      <td>9.940000</td>\n",
              "      <td>9.882400</td>\n",
              "    </tr>\n",
              "    <tr>\n",
              "      <th>Malibu</th>\n",
              "      <td>214</td>\n",
              "      <td>439.467290</td>\n",
              "      <td>9.679907</td>\n",
              "      <td>9.967290</td>\n",
              "      <td>9.837967</td>\n",
              "    </tr>\n",
              "    <tr>\n",
              "      <th>Pacific Palisades</th>\n",
              "      <td>131</td>\n",
              "      <td>285.969466</td>\n",
              "      <td>9.581679</td>\n",
              "      <td>9.877863</td>\n",
              "      <td>9.744580</td>\n",
              "    </tr>\n",
              "    <tr>\n",
              "      <th>Hollywood Hills West</th>\n",
              "      <td>363</td>\n",
              "      <td>323.922865</td>\n",
              "      <td>9.573003</td>\n",
              "      <td>9.870523</td>\n",
              "      <td>9.736639</td>\n",
              "    </tr>\n",
              "    <tr>\n",
              "      <th>Beverly Crest</th>\n",
              "      <td>66</td>\n",
              "      <td>362.090909</td>\n",
              "      <td>9.560606</td>\n",
              "      <td>9.878788</td>\n",
              "      <td>9.735606</td>\n",
              "    </tr>\n",
              "    <tr>\n",
              "      <th>Manhattan Beach</th>\n",
              "      <td>142</td>\n",
              "      <td>266.908451</td>\n",
              "      <td>9.508451</td>\n",
              "      <td>9.823944</td>\n",
              "      <td>9.681972</td>\n",
              "    </tr>\n",
              "    <tr>\n",
              "      <th>Avalon</th>\n",
              "      <td>78</td>\n",
              "      <td>384.038462</td>\n",
              "      <td>9.073077</td>\n",
              "      <td>9.653846</td>\n",
              "      <td>9.392500</td>\n",
              "    </tr>\n",
              "  </tbody>\n",
              "</table>\n",
              "</div>"
            ],
            "text/plain": [
              "                                       number_of_ads  ...  weighted_avg_review\n",
              "Unincorporated Santa Monica Mountains            100  ...             9.882400\n",
              "Malibu                                           214  ...             9.837967\n",
              "Pacific Palisades                                131  ...             9.744580\n",
              "Hollywood Hills West                             363  ...             9.736639\n",
              "Beverly Crest                                     66  ...             9.735606\n",
              "Manhattan Beach                                  142  ...             9.681972\n",
              "Avalon                                            78  ...             9.392500\n",
              "\n",
              "[7 rows x 5 columns]"
            ]
          },
          "metadata": {
            "tags": []
          },
          "execution_count": 65
        }
      ]
    },
    {
      "cell_type": "code",
      "metadata": {
        "id": "XpQGUMA2rqAW",
        "colab_type": "code",
        "outputId": "fd561dd3-7701-4af2-833b-b049926bd037",
        "colab": {
          "base_uri": "https://localhost:8080/",
          "height": 376
        }
      },
      "source": [
        " # Best reviewed neighbourhood for any price\n",
        "get_neighbourhoods()"
      ],
      "execution_count": 66,
      "outputs": [
        {
          "output_type": "stream",
          "text": [
            "Best reviewed neighbourhoods from $0 to $1000\n"
          ],
          "name": "stdout"
        },
        {
          "output_type": "execute_result",
          "data": {
            "text/html": [
              "<div>\n",
              "<style scoped>\n",
              "    .dataframe tbody tr th:only-of-type {\n",
              "        vertical-align: middle;\n",
              "    }\n",
              "\n",
              "    .dataframe tbody tr th {\n",
              "        vertical-align: top;\n",
              "    }\n",
              "\n",
              "    .dataframe thead th {\n",
              "        text-align: right;\n",
              "    }\n",
              "</style>\n",
              "<table border=\"1\" class=\"dataframe\">\n",
              "  <thead>\n",
              "    <tr style=\"text-align: right;\">\n",
              "      <th></th>\n",
              "      <th>number_of_ads</th>\n",
              "      <th>average_price</th>\n",
              "      <th>avg_review_rating</th>\n",
              "      <th>avg_location_review</th>\n",
              "      <th>weighted_avg_review</th>\n",
              "    </tr>\n",
              "  </thead>\n",
              "  <tbody>\n",
              "    <tr>\n",
              "      <th>Unincorporated Santa Monica Mountains</th>\n",
              "      <td>100</td>\n",
              "      <td>311.320000</td>\n",
              "      <td>9.812000</td>\n",
              "      <td>9.940000</td>\n",
              "      <td>9.882400</td>\n",
              "    </tr>\n",
              "    <tr>\n",
              "      <th>Topanga</th>\n",
              "      <td>231</td>\n",
              "      <td>217.502165</td>\n",
              "      <td>9.766667</td>\n",
              "      <td>9.935065</td>\n",
              "      <td>9.859286</td>\n",
              "    </tr>\n",
              "    <tr>\n",
              "      <th>Toluca Lake</th>\n",
              "      <td>62</td>\n",
              "      <td>165.000000</td>\n",
              "      <td>9.708065</td>\n",
              "      <td>9.951613</td>\n",
              "      <td>9.842016</td>\n",
              "    </tr>\n",
              "    <tr>\n",
              "      <th>Signal Hill</th>\n",
              "      <td>34</td>\n",
              "      <td>126.441176</td>\n",
              "      <td>9.791176</td>\n",
              "      <td>9.882353</td>\n",
              "      <td>9.841324</td>\n",
              "    </tr>\n",
              "    <tr>\n",
              "      <th>Malibu</th>\n",
              "      <td>214</td>\n",
              "      <td>439.467290</td>\n",
              "      <td>9.679907</td>\n",
              "      <td>9.967290</td>\n",
              "      <td>9.837967</td>\n",
              "    </tr>\n",
              "    <tr>\n",
              "      <th>La Canada Flintridge</th>\n",
              "      <td>30</td>\n",
              "      <td>197.566667</td>\n",
              "      <td>9.713333</td>\n",
              "      <td>9.933333</td>\n",
              "      <td>9.834333</td>\n",
              "    </tr>\n",
              "    <tr>\n",
              "      <th>Silver Lake</th>\n",
              "      <td>526</td>\n",
              "      <td>149.304183</td>\n",
              "      <td>9.677186</td>\n",
              "      <td>9.931559</td>\n",
              "      <td>9.817091</td>\n",
              "    </tr>\n",
              "    <tr>\n",
              "      <th>Agoura Hills</th>\n",
              "      <td>33</td>\n",
              "      <td>131.333333</td>\n",
              "      <td>9.718182</td>\n",
              "      <td>9.878788</td>\n",
              "      <td>9.806515</td>\n",
              "    </tr>\n",
              "    <tr>\n",
              "      <th>Mount Washington</th>\n",
              "      <td>110</td>\n",
              "      <td>118.300000</td>\n",
              "      <td>9.730000</td>\n",
              "      <td>9.863636</td>\n",
              "      <td>9.803500</td>\n",
              "    </tr>\n",
              "    <tr>\n",
              "      <th>Rancho Park</th>\n",
              "      <td>40</td>\n",
              "      <td>134.250000</td>\n",
              "      <td>9.617500</td>\n",
              "      <td>9.950000</td>\n",
              "      <td>9.800375</td>\n",
              "    </tr>\n",
              "  </tbody>\n",
              "</table>\n",
              "</div>"
            ],
            "text/plain": [
              "                                       number_of_ads  ...  weighted_avg_review\n",
              "Unincorporated Santa Monica Mountains            100  ...             9.882400\n",
              "Topanga                                          231  ...             9.859286\n",
              "Toluca Lake                                       62  ...             9.842016\n",
              "Signal Hill                                       34  ...             9.841324\n",
              "Malibu                                           214  ...             9.837967\n",
              "La Canada Flintridge                              30  ...             9.834333\n",
              "Silver Lake                                      526  ...             9.817091\n",
              "Agoura Hills                                      33  ...             9.806515\n",
              "Mount Washington                                 110  ...             9.803500\n",
              "Rancho Park                                       40  ...             9.800375\n",
              "\n",
              "[10 rows x 5 columns]"
            ]
          },
          "metadata": {
            "tags": []
          },
          "execution_count": 66
        }
      ]
    }
  ]
}